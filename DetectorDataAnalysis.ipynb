{
 "cells": [
  {
   "cell_type": "code",
   "execution_count": 2,
   "metadata": {},
   "outputs": [],
   "source": [
    "from __future__ import division\n",
    "import pandas as pd\n",
    "import numpy as np\n",
    "import matplotlib.pyplot as plt\n"
   ]
  },
  {
   "cell_type": "code",
   "execution_count": 469,
   "metadata": {},
   "outputs": [
    {
     "ename": "FileNotFoundError",
     "evalue": "File b'interval.txt' does not exist",
     "output_type": "error",
     "traceback": [
      "\u001b[1;31m---------------------------------------------------------------------------\u001b[0m",
      "\u001b[1;31mFileNotFoundError\u001b[0m                         Traceback (most recent call last)",
      "\u001b[1;32m<ipython-input-469-712f8f82cc23>\u001b[0m in \u001b[0;36m<module>\u001b[1;34m\u001b[0m\n\u001b[1;32m----> 1\u001b[1;33m \u001b[0mdf\u001b[0m \u001b[1;33m=\u001b[0m \u001b[0mpd\u001b[0m\u001b[1;33m.\u001b[0m\u001b[0mread_csv\u001b[0m\u001b[1;33m(\u001b[0m\u001b[1;34m'interval.txt'\u001b[0m\u001b[1;33m,\u001b[0m \u001b[0mdelimiter\u001b[0m\u001b[1;33m=\u001b[0m\u001b[1;34m';'\u001b[0m\u001b[1;33m)\u001b[0m\u001b[1;33m\u001b[0m\u001b[1;33m\u001b[0m\u001b[0m\n\u001b[0m",
      "\u001b[1;32m~\\AppData\\Local\\Continuum\\anaconda3\\lib\\site-packages\\pandas\\io\\parsers.py\u001b[0m in \u001b[0;36mparser_f\u001b[1;34m(filepath_or_buffer, sep, delimiter, header, names, index_col, usecols, squeeze, prefix, mangle_dupe_cols, dtype, engine, converters, true_values, false_values, skipinitialspace, skiprows, nrows, na_values, keep_default_na, na_filter, verbose, skip_blank_lines, parse_dates, infer_datetime_format, keep_date_col, date_parser, dayfirst, iterator, chunksize, compression, thousands, decimal, lineterminator, quotechar, quoting, escapechar, comment, encoding, dialect, tupleize_cols, error_bad_lines, warn_bad_lines, skipfooter, doublequote, delim_whitespace, low_memory, memory_map, float_precision)\u001b[0m\n\u001b[0;32m    676\u001b[0m                     skip_blank_lines=skip_blank_lines)\n\u001b[0;32m    677\u001b[0m \u001b[1;33m\u001b[0m\u001b[0m\n\u001b[1;32m--> 678\u001b[1;33m         \u001b[1;32mreturn\u001b[0m \u001b[0m_read\u001b[0m\u001b[1;33m(\u001b[0m\u001b[0mfilepath_or_buffer\u001b[0m\u001b[1;33m,\u001b[0m \u001b[0mkwds\u001b[0m\u001b[1;33m)\u001b[0m\u001b[1;33m\u001b[0m\u001b[1;33m\u001b[0m\u001b[0m\n\u001b[0m\u001b[0;32m    679\u001b[0m \u001b[1;33m\u001b[0m\u001b[0m\n\u001b[0;32m    680\u001b[0m     \u001b[0mparser_f\u001b[0m\u001b[1;33m.\u001b[0m\u001b[0m__name__\u001b[0m \u001b[1;33m=\u001b[0m \u001b[0mname\u001b[0m\u001b[1;33m\u001b[0m\u001b[1;33m\u001b[0m\u001b[0m\n",
      "\u001b[1;32m~\\AppData\\Local\\Continuum\\anaconda3\\lib\\site-packages\\pandas\\io\\parsers.py\u001b[0m in \u001b[0;36m_read\u001b[1;34m(filepath_or_buffer, kwds)\u001b[0m\n\u001b[0;32m    438\u001b[0m \u001b[1;33m\u001b[0m\u001b[0m\n\u001b[0;32m    439\u001b[0m     \u001b[1;31m# Create the parser.\u001b[0m\u001b[1;33m\u001b[0m\u001b[1;33m\u001b[0m\u001b[1;33m\u001b[0m\u001b[0m\n\u001b[1;32m--> 440\u001b[1;33m     \u001b[0mparser\u001b[0m \u001b[1;33m=\u001b[0m \u001b[0mTextFileReader\u001b[0m\u001b[1;33m(\u001b[0m\u001b[0mfilepath_or_buffer\u001b[0m\u001b[1;33m,\u001b[0m \u001b[1;33m**\u001b[0m\u001b[0mkwds\u001b[0m\u001b[1;33m)\u001b[0m\u001b[1;33m\u001b[0m\u001b[1;33m\u001b[0m\u001b[0m\n\u001b[0m\u001b[0;32m    441\u001b[0m \u001b[1;33m\u001b[0m\u001b[0m\n\u001b[0;32m    442\u001b[0m     \u001b[1;32mif\u001b[0m \u001b[0mchunksize\u001b[0m \u001b[1;32mor\u001b[0m \u001b[0miterator\u001b[0m\u001b[1;33m:\u001b[0m\u001b[1;33m\u001b[0m\u001b[1;33m\u001b[0m\u001b[0m\n",
      "\u001b[1;32m~\\AppData\\Local\\Continuum\\anaconda3\\lib\\site-packages\\pandas\\io\\parsers.py\u001b[0m in \u001b[0;36m__init__\u001b[1;34m(self, f, engine, **kwds)\u001b[0m\n\u001b[0;32m    785\u001b[0m             \u001b[0mself\u001b[0m\u001b[1;33m.\u001b[0m\u001b[0moptions\u001b[0m\u001b[1;33m[\u001b[0m\u001b[1;34m'has_index_names'\u001b[0m\u001b[1;33m]\u001b[0m \u001b[1;33m=\u001b[0m \u001b[0mkwds\u001b[0m\u001b[1;33m[\u001b[0m\u001b[1;34m'has_index_names'\u001b[0m\u001b[1;33m]\u001b[0m\u001b[1;33m\u001b[0m\u001b[1;33m\u001b[0m\u001b[0m\n\u001b[0;32m    786\u001b[0m \u001b[1;33m\u001b[0m\u001b[0m\n\u001b[1;32m--> 787\u001b[1;33m         \u001b[0mself\u001b[0m\u001b[1;33m.\u001b[0m\u001b[0m_make_engine\u001b[0m\u001b[1;33m(\u001b[0m\u001b[0mself\u001b[0m\u001b[1;33m.\u001b[0m\u001b[0mengine\u001b[0m\u001b[1;33m)\u001b[0m\u001b[1;33m\u001b[0m\u001b[1;33m\u001b[0m\u001b[0m\n\u001b[0m\u001b[0;32m    788\u001b[0m \u001b[1;33m\u001b[0m\u001b[0m\n\u001b[0;32m    789\u001b[0m     \u001b[1;32mdef\u001b[0m \u001b[0mclose\u001b[0m\u001b[1;33m(\u001b[0m\u001b[0mself\u001b[0m\u001b[1;33m)\u001b[0m\u001b[1;33m:\u001b[0m\u001b[1;33m\u001b[0m\u001b[1;33m\u001b[0m\u001b[0m\n",
      "\u001b[1;32m~\\AppData\\Local\\Continuum\\anaconda3\\lib\\site-packages\\pandas\\io\\parsers.py\u001b[0m in \u001b[0;36m_make_engine\u001b[1;34m(self, engine)\u001b[0m\n\u001b[0;32m   1012\u001b[0m     \u001b[1;32mdef\u001b[0m \u001b[0m_make_engine\u001b[0m\u001b[1;33m(\u001b[0m\u001b[0mself\u001b[0m\u001b[1;33m,\u001b[0m \u001b[0mengine\u001b[0m\u001b[1;33m=\u001b[0m\u001b[1;34m'c'\u001b[0m\u001b[1;33m)\u001b[0m\u001b[1;33m:\u001b[0m\u001b[1;33m\u001b[0m\u001b[1;33m\u001b[0m\u001b[0m\n\u001b[0;32m   1013\u001b[0m         \u001b[1;32mif\u001b[0m \u001b[0mengine\u001b[0m \u001b[1;33m==\u001b[0m \u001b[1;34m'c'\u001b[0m\u001b[1;33m:\u001b[0m\u001b[1;33m\u001b[0m\u001b[1;33m\u001b[0m\u001b[0m\n\u001b[1;32m-> 1014\u001b[1;33m             \u001b[0mself\u001b[0m\u001b[1;33m.\u001b[0m\u001b[0m_engine\u001b[0m \u001b[1;33m=\u001b[0m \u001b[0mCParserWrapper\u001b[0m\u001b[1;33m(\u001b[0m\u001b[0mself\u001b[0m\u001b[1;33m.\u001b[0m\u001b[0mf\u001b[0m\u001b[1;33m,\u001b[0m \u001b[1;33m**\u001b[0m\u001b[0mself\u001b[0m\u001b[1;33m.\u001b[0m\u001b[0moptions\u001b[0m\u001b[1;33m)\u001b[0m\u001b[1;33m\u001b[0m\u001b[1;33m\u001b[0m\u001b[0m\n\u001b[0m\u001b[0;32m   1015\u001b[0m         \u001b[1;32melse\u001b[0m\u001b[1;33m:\u001b[0m\u001b[1;33m\u001b[0m\u001b[1;33m\u001b[0m\u001b[0m\n\u001b[0;32m   1016\u001b[0m             \u001b[1;32mif\u001b[0m \u001b[0mengine\u001b[0m \u001b[1;33m==\u001b[0m \u001b[1;34m'python'\u001b[0m\u001b[1;33m:\u001b[0m\u001b[1;33m\u001b[0m\u001b[1;33m\u001b[0m\u001b[0m\n",
      "\u001b[1;32m~\\AppData\\Local\\Continuum\\anaconda3\\lib\\site-packages\\pandas\\io\\parsers.py\u001b[0m in \u001b[0;36m__init__\u001b[1;34m(self, src, **kwds)\u001b[0m\n\u001b[0;32m   1706\u001b[0m         \u001b[0mkwds\u001b[0m\u001b[1;33m[\u001b[0m\u001b[1;34m'usecols'\u001b[0m\u001b[1;33m]\u001b[0m \u001b[1;33m=\u001b[0m \u001b[0mself\u001b[0m\u001b[1;33m.\u001b[0m\u001b[0musecols\u001b[0m\u001b[1;33m\u001b[0m\u001b[1;33m\u001b[0m\u001b[0m\n\u001b[0;32m   1707\u001b[0m \u001b[1;33m\u001b[0m\u001b[0m\n\u001b[1;32m-> 1708\u001b[1;33m         \u001b[0mself\u001b[0m\u001b[1;33m.\u001b[0m\u001b[0m_reader\u001b[0m \u001b[1;33m=\u001b[0m \u001b[0mparsers\u001b[0m\u001b[1;33m.\u001b[0m\u001b[0mTextReader\u001b[0m\u001b[1;33m(\u001b[0m\u001b[0msrc\u001b[0m\u001b[1;33m,\u001b[0m \u001b[1;33m**\u001b[0m\u001b[0mkwds\u001b[0m\u001b[1;33m)\u001b[0m\u001b[1;33m\u001b[0m\u001b[1;33m\u001b[0m\u001b[0m\n\u001b[0m\u001b[0;32m   1709\u001b[0m \u001b[1;33m\u001b[0m\u001b[0m\n\u001b[0;32m   1710\u001b[0m         \u001b[0mpassed_names\u001b[0m \u001b[1;33m=\u001b[0m \u001b[0mself\u001b[0m\u001b[1;33m.\u001b[0m\u001b[0mnames\u001b[0m \u001b[1;32mis\u001b[0m \u001b[1;32mNone\u001b[0m\u001b[1;33m\u001b[0m\u001b[1;33m\u001b[0m\u001b[0m\n",
      "\u001b[1;32mpandas\\_libs\\parsers.pyx\u001b[0m in \u001b[0;36mpandas._libs.parsers.TextReader.__cinit__\u001b[1;34m()\u001b[0m\n",
      "\u001b[1;32mpandas\\_libs\\parsers.pyx\u001b[0m in \u001b[0;36mpandas._libs.parsers.TextReader._setup_parser_source\u001b[1;34m()\u001b[0m\n",
      "\u001b[1;31mFileNotFoundError\u001b[0m: File b'interval.txt' does not exist"
     ]
    }
   ],
   "source": [
    "df = pd.read_csv('interval.txt', delimiter=';')"
   ]
  },
  {
   "cell_type": "code",
   "execution_count": null,
   "metadata": {},
   "outputs": [],
   "source": [
    "IntersectionNames = ['I2','I3','I4','I5','I6','I7','I8','I9']"
   ]
  },
  {
   "cell_type": "code",
   "execution_count": null,
   "metadata": {},
   "outputs": [],
   "source": [
    "df.tail(100)"
   ]
  },
  {
   "cell_type": "code",
   "execution_count": null,
   "metadata": {},
   "outputs": [],
   "source": [
    "df.iloc[:,1:4].head()"
   ]
  },
  {
   "cell_type": "code",
   "execution_count": null,
   "metadata": {},
   "outputs": [],
   "source": [
    "df.iloc[:,29:33].head(5)"
   ]
  },
  {
   "cell_type": "code",
   "execution_count": 491,
   "metadata": {},
   "outputs": [],
   "source": [
    "def ParenthesesConverter(x):\n",
    "    return x.replace('(','').replace(')','')"
   ]
  },
  {
   "cell_type": "code",
   "execution_count": null,
   "metadata": {
    "scrolled": true
   },
   "outputs": [],
   "source": [
    "new_df = df.copy().replace('()',0).replace(to_replace=r'^(.*)$', value='1', regex=True)"
   ]
  },
  {
   "cell_type": "code",
   "execution_count": null,
   "metadata": {},
   "outputs": [],
   "source": [
    "new_df.head(100)"
   ]
  },
  {
   "cell_type": "code",
   "execution_count": null,
   "metadata": {},
   "outputs": [],
   "source": [
    "new_df.iloc[:,2].head(100)\n"
   ]
  },
  {
   "cell_type": "code",
   "execution_count": null,
   "metadata": {},
   "outputs": [],
   "source": [
    "IntersectionIn_df = pd.DataFrame(columns = IntersectionNames)"
   ]
  },
  {
   "cell_type": "code",
   "execution_count": null,
   "metadata": {},
   "outputs": [],
   "source": [
    "d1 = pd.DataFrame(np.zeros((df.index[0], 1)))\n",
    "for i in range(0,8):\n",
    "    s1 = pd.concat([d1,new_df.iloc[:,i*4+1:i*4+5]], axis=1)"
   ]
  },
  {
   "cell_type": "code",
   "execution_count": null,
   "metadata": {},
   "outputs": [],
   "source": [
    "new_df.iloc[:,1:5].sum(axis = 1).tail(100)"
   ]
  },
  {
   "cell_type": "code",
   "execution_count": null,
   "metadata": {},
   "outputs": [],
   "source": [
    "new_df.iloc[:,2*4+1:2*4+5].sum(axis = 0)"
   ]
  },
  {
   "cell_type": "code",
   "execution_count": null,
   "metadata": {},
   "outputs": [],
   "source": [
    "df_01 = new_df.iloc[:,1] + new_df.iloc[:,2]\n",
    "df_01.iloc[1500:1800].plot()"
   ]
  },
  {
   "cell_type": "code",
   "execution_count": null,
   "metadata": {},
   "outputs": [],
   "source": [
    "df_edge_detection = pd.DataFrame(np.zeros((df.index[0], 16)))\n",
    "for i in range(16):\n",
    "    df_edge_detection.iloc[:,i] = new_df.iloc[:,2*i+1] + new_df.iloc[:,2*i+2]"
   ]
  },
  {
   "cell_type": "code",
   "execution_count": null,
   "metadata": {},
   "outputs": [],
   "source": [
    "df_edge_detection.iloc[1500:1800,0].plot()"
   ]
  },
  {
   "cell_type": "code",
   "execution_count": null,
   "metadata": {},
   "outputs": [],
   "source": [
    "df_edge_detection.iloc[2900:3500,9].plot()"
   ]
  },
  {
   "cell_type": "code",
   "execution_count": null,
   "metadata": {},
   "outputs": [],
   "source": [
    "df_edge_detection.iloc[2900:3500,7].plot()"
   ]
  },
  {
   "cell_type": "code",
   "execution_count": null,
   "metadata": {},
   "outputs": [],
   "source": [
    "df_edge_detection.iloc[2900:3500,6].plot()"
   ]
  },
  {
   "cell_type": "code",
   "execution_count": null,
   "metadata": {},
   "outputs": [],
   "source": [
    "df_edge_detection.iloc[2900:3500,8].plot()"
   ]
  },
  {
   "cell_type": "code",
   "execution_count": 82,
   "metadata": {},
   "outputs": [],
   "source": [
    "# Get All vehicle ID from Route file\n",
    "import xml.etree.ElementTree as ET\n",
    "tree = ET.parse('AL69_14intersections.rou.xml')\n",
    "root = tree.getroot()\n",
    "vehicle = root.findall('vehicle')"
   ]
  },
  {
   "cell_type": "code",
   "execution_count": 83,
   "metadata": {},
   "outputs": [],
   "source": [
    "# store List of ID into the txt file\n",
    "carIDList = []\n",
    "with open('carIDFile14Intersections.txt', \"w\") as carIDFile:\n",
    "    for car in vehicle:\n",
    "        car_id = car.get('id')\n",
    "        carIDList.append(car_id)\n",
    "        carIDFile.write(car_id+',')"
   ]
  },
  {
   "cell_type": "code",
   "execution_count": 513,
   "metadata": {},
   "outputs": [
    {
     "name": "stderr",
     "output_type": "stream",
     "text": [
      "C:\\Users\\byang12\\AppData\\Local\\Continuum\\anaconda3\\lib\\site-packages\\ipykernel_launcher.py:1: UserWarning: This pattern has match groups. To actually get the groups, use str.extract.\n",
      "  \"\"\"Entry point for launching an IPython kernel.\n"
     ]
    },
    {
     "data": {
      "text/plain": [
       "229"
      ]
     },
     "execution_count": 513,
     "metadata": {},
     "output_type": "execute_result"
    }
   ],
   "source": [
    "df2.loc[df2['e1Detector_E45_0_12'].str.contains(\"('down_19',)\")].index[0]"
   ]
  },
  {
   "cell_type": "code",
   "execution_count": null,
   "metadata": {},
   "outputs": [],
   "source": [
    "detectorName = list(df.columns)[1:]"
   ]
  },
  {
   "cell_type": "code",
   "execution_count": null,
   "metadata": {},
   "outputs": [],
   "source": [
    "detectorName[1][11:14]"
   ]
  },
  {
   "cell_type": "code",
   "execution_count": null,
   "metadata": {},
   "outputs": [],
   "source": [
    "df_ID_Edge_Time.drop(df_ID_Edge_Time.index, inplace=True)"
   ]
  },
  {
   "cell_type": "code",
   "execution_count": null,
   "metadata": {},
   "outputs": [],
   "source": [
    "df_ID_Edge_Time = pd.DataFrame(columns =  [\"carID\", \"Edge\", \"Timestamp\"])"
   ]
  },
  {
   "cell_type": "code",
   "execution_count": null,
   "metadata": {},
   "outputs": [],
   "source": [
    "i = 0\n",
    "for carID in carIDList:\n",
    "    for edge in detectorName:\n",
    "        record = df.loc[df[edge].str.contains(\"('\"+carID+\"',)\")]\n",
    "        if not record.empty:\n",
    "            df_ID_Edge_Time.loc[i] = [carID,edge[11:14],record.index[0]]\n",
    "            i = i + 1"
   ]
  },
  {
   "cell_type": "code",
   "execution_count": null,
   "metadata": {},
   "outputs": [],
   "source": [
    "df_ID_Edge_Time.head(100)"
   ]
  },
  {
   "cell_type": "code",
   "execution_count": null,
   "metadata": {},
   "outputs": [],
   "source": [
    "df_ID_Edge_Time.loc[df_ID_Edge_Time['Edge'] == 'E45']"
   ]
  },
  {
   "cell_type": "code",
   "execution_count": null,
   "metadata": {},
   "outputs": [],
   "source": [
    "df_ID_Edge_Time[df_ID_Edge_Time.Timestamp != 1928]"
   ]
  },
  {
   "cell_type": "code",
   "execution_count": null,
   "metadata": {},
   "outputs": [],
   "source": [
    "df_E76 = df_ID_Edge_Time[df_ID_Edge_Time.Timestamp != 1928].loc[df_ID_Edge_Time['Edge'] == 'E76'].copy()"
   ]
  },
  {
   "cell_type": "code",
   "execution_count": null,
   "metadata": {},
   "outputs": [],
   "source": [
    "df_E65 = df_ID_Edge_Time[df_ID_Edge_Time.Timestamp != 1928].loc[df_ID_Edge_Time['Edge'] == 'E65'].copy()"
   ]
  },
  {
   "cell_type": "code",
   "execution_count": null,
   "metadata": {},
   "outputs": [],
   "source": [
    "df_E76.describe()"
   ]
  },
  {
   "cell_type": "code",
   "execution_count": null,
   "metadata": {},
   "outputs": [],
   "source": [
    "diffE65E76 = df_E65['Timestamp'].values - df_E76['Timestamp'].values"
   ]
  },
  {
   "cell_type": "code",
   "execution_count": null,
   "metadata": {},
   "outputs": [],
   "source": [
    "bin_value = diffE65E76.max() - diffE65E76.min()"
   ]
  },
  {
   "cell_type": "code",
   "execution_count": null,
   "metadata": {},
   "outputs": [],
   "source": [
    "diffE65E76_list = diffE65E76.tolist()"
   ]
  },
  {
   "cell_type": "code",
   "execution_count": null,
   "metadata": {},
   "outputs": [],
   "source": [
    "plt.hist(diffE65E76_list,bins=bin_value)"
   ]
  },
  {
   "cell_type": "code",
   "execution_count": null,
   "metadata": {},
   "outputs": [],
   "source": [
    "plt.plot(diffE65E76_list)"
   ]
  },
  {
   "cell_type": "code",
   "execution_count": null,
   "metadata": {},
   "outputs": [],
   "source": [
    "df_E76['carID'][df_E76['carID'].duplicated()]"
   ]
  },
  {
   "cell_type": "code",
   "execution_count": null,
   "metadata": {},
   "outputs": [],
   "source": [
    "df_ID_Edge_Time.loc[df_ID_Edge_Time['carID'] == 'up_697']"
   ]
  },
  {
   "cell_type": "code",
   "execution_count": null,
   "metadata": {},
   "outputs": [],
   "source": [
    "differenceE56E45_list = df_ID_Edge_Time.loc[df_ID_Edge_Time['Edge'] == 'E56']['Timestamp'].values - df_ID_Edge_Time.loc[df_ID_Edge_Time['Edge'] == 'E45']['Timestamp'].values"
   ]
  },
  {
   "cell_type": "code",
   "execution_count": null,
   "metadata": {},
   "outputs": [],
   "source": [
    "differenceE56E45_list.max()"
   ]
  },
  {
   "cell_type": "code",
   "execution_count": null,
   "metadata": {},
   "outputs": [],
   "source": [
    "differenceE56E45_list.min()"
   ]
  },
  {
   "cell_type": "code",
   "execution_count": null,
   "metadata": {},
   "outputs": [],
   "source": [
    "differenceE56E45_list = differenceE56E45_list.tolist()"
   ]
  },
  {
   "cell_type": "code",
   "execution_count": null,
   "metadata": {},
   "outputs": [],
   "source": [
    "VEhicleIDLIST=df_ID_Edge_Time.loc[df_ID_Edge_Time['Edge'] == 'E56']['carID'].values.tolist()"
   ]
  },
  {
   "cell_type": "code",
   "execution_count": null,
   "metadata": {},
   "outputs": [],
   "source": [
    "df_ID_diff = pd.DataFrame(data = differenceE56E45_list)"
   ]
  },
  {
   "cell_type": "code",
   "execution_count": null,
   "metadata": {},
   "outputs": [],
   "source": [
    "df_ID_diff.hist()"
   ]
  },
  {
   "cell_type": "code",
   "execution_count": null,
   "metadata": {},
   "outputs": [],
   "source": [
    "differenceE56E45_list"
   ]
  },
  {
   "cell_type": "code",
   "execution_count": null,
   "metadata": {},
   "outputs": [],
   "source": [
    "import matplotlib.pyplot as plt"
   ]
  },
  {
   "cell_type": "code",
   "execution_count": null,
   "metadata": {},
   "outputs": [],
   "source": [
    "plt.hist(differenceE56E45_list,bins=70)"
   ]
  },
  {
   "cell_type": "code",
   "execution_count": null,
   "metadata": {},
   "outputs": [],
   "source": [
    "plt.plot(differenceE56E45_list)"
   ]
  },
  {
   "cell_type": "code",
   "execution_count": null,
   "metadata": {},
   "outputs": [],
   "source": [
    "differenceE65E76_list = df_ID_Edge_Time.loc[df_ID_Edge_Time['Edge'] == 'E65']['Timestamp'].values - df_ID_Edge_Time.loc[df_ID_Edge_Time['Edge'] == 'E76']['Timestamp'].values"
   ]
  },
  {
   "cell_type": "code",
   "execution_count": null,
   "metadata": {},
   "outputs": [],
   "source": [
    "df_Detector9 = df_edge_detection.iloc[:,9]"
   ]
  },
  {
   "cell_type": "code",
   "execution_count": null,
   "metadata": {},
   "outputs": [],
   "source": [
    "df_Detector9.iloc[100:1100].plot()"
   ]
  },
  {
   "cell_type": "code",
   "execution_count": null,
   "metadata": {},
   "outputs": [],
   "source": [
    "nums = [9,7,6,8]\n",
    "intervalList = []\n",
    "for num in nums:\n",
    "    interval = 0\n",
    "    detectorInterval = []\n",
    "    for key, value in df_edge_detection.iloc[:,num].iteritems(): \n",
    "        if value == 0:\n",
    "            interval = interval + 1\n",
    "        else:\n",
    "            if interval > 30:\n",
    "                detectorInterval.append(interval)\n",
    "                interval = 0\n",
    "            else:\n",
    "                interval = 0\n",
    "    intervalList.append(detectorInterval)"
   ]
  },
  {
   "cell_type": "code",
   "execution_count": null,
   "metadata": {},
   "outputs": [],
   "source": [
    "intervalList[1][1:]"
   ]
  },
  {
   "cell_type": "code",
   "execution_count": null,
   "metadata": {},
   "outputs": [],
   "source": [
    "plt.hist(intervalList[1][1:],bins=[40, 50, 60, 70, 80, 90, 100,110])"
   ]
  },
  {
   "cell_type": "code",
   "execution_count": null,
   "metadata": {},
   "outputs": [],
   "source": [
    "from __future__ import division"
   ]
  },
  {
   "cell_type": "code",
   "execution_count": null,
   "metadata": {},
   "outputs": [],
   "source": [
    "intervalList[3][1:]"
   ]
  },
  {
   "cell_type": "code",
   "execution_count": null,
   "metadata": {},
   "outputs": [],
   "source": [
    "intervals = intervalList[3][1:]\n",
    "minInterval = min(intervals)\n",
    "maxInterval = max(intervals)\n",
    "plt.hist(intervals,bins=range(minInterval-minInterval%10,maxInterval-maxInterval%10+15,5))\n",
    "plt.title(\"Detector \" + str(8))\n",
    "plt.xlabel('Range of Time (s)')\n",
    "plt.ylabel('Frequency')"
   ]
  },
  {
   "cell_type": "code",
   "execution_count": 3,
   "metadata": {},
   "outputs": [],
   "source": [
    "# More detailed CSV data\n",
    "df1 = pd.read_csv('intervalNumBase.txt', delimiter=';')\n",
    "df2 = pd.read_csv('intervalIDBaseEdge.txt', delimiter=';')\n",
    "df3 = pd.read_csv('intervalNumBasedEdge.txt', delimiter=';')"
   ]
  },
  {
   "cell_type": "code",
   "execution_count": 4,
   "metadata": {
    "scrolled": true
   },
   "outputs": [],
   "source": [
    "df_intersection_crowd_size = pd.DataFrame(np.zeros((df1.index[0], 8)))\n",
    "for i in range(8):\n",
    "    df_intersection_crowd_size.iloc[:,i] = df1.iloc[:,i+73]"
   ]
  },
  {
   "cell_type": "code",
   "execution_count": 5,
   "metadata": {},
   "outputs": [],
   "source": [
    "df_all_edge_detection = pd.DataFrame(np.zeros((df3.index[0], 32)))\n",
    "for i in range(32):\n",
    "    df_all_edge_detection.iloc[:,i] = df3.iloc[:,2*i+1] + df3.iloc[:,2*i+2]"
   ]
  },
  {
   "cell_type": "code",
   "execution_count": 6,
   "metadata": {},
   "outputs": [],
   "source": [
    "df_traffic_light = pd.DataFrame(np.zeros((df3.index[0], 8)))\n",
    "for i in range(65,73):\n",
    "    temp = df3.iloc[:,i]/2    \n",
    "    df_traffic_light.iloc[:,i-65] = temp.astype(int)"
   ]
  },
  {
   "cell_type": "code",
   "execution_count": 7,
   "metadata": {},
   "outputs": [],
   "source": [
    "df_intersection_vehnum = pd.DataFrame(np.zeros((df3.index[0], 16)))\n",
    "for i in range(73,89):   \n",
    "    df_intersection_vehnum.iloc[:,i-73] = df3.iloc[:,i]"
   ]
  },
  {
   "cell_type": "code",
   "execution_count": 8,
   "metadata": {},
   "outputs": [],
   "source": [
    "df_outIntersection_vehnum = pd.DataFrame(np.zeros((df3.index[0], 16)))\n",
    "for i in range(89,105):   \n",
    "    df_outIntersection_vehnum.iloc[:,i-89] = df3.iloc[:,i]"
   ]
  },
  {
   "cell_type": "code",
   "execution_count": 15,
   "metadata": {
    "scrolled": true
   },
   "outputs": [
    {
     "data": {
      "text/plain": [
       "[<matplotlib.lines.Line2D at 0x205f3b46e80>]"
      ]
     },
     "execution_count": 15,
     "metadata": {},
     "output_type": "execute_result"
    },
    {
     "data": {
      "image/png": "[encoded data removed]",
      "text/plain": [
       "<Figure size 432x288 with 1 Axes>"
      ]
     },
     "metadata": {
      "needs_background": "light"
     },
     "output_type": "display_data"
    }
   ],
   "source": [
    "# Just vehicle drive into the intersection\n",
    "plt.figure()\n",
    "plt.plot(df_intersection_crowd_size.iloc[1000:2000,3])\n",
    "plt.plot(df_intersection_vehnum.iloc[1000:2000,6]+df_intersection_vehnum.iloc[1000:2000,7],color='red')"
   ]
  },
  {
   "cell_type": "code",
   "execution_count": 17,
   "metadata": {},
   "outputs": [
    {
     "data": {
      "text/plain": [
       "[<matplotlib.lines.Line2D at 0x205f3c0f5c0>]"
      ]
     },
     "execution_count": 17,
     "metadata": {},
     "output_type": "execute_result"
    },
    {
     "data": {
      "image/png": "[encoded data removed]",
      "text/plain": [
       "<Figure size 432x288 with 1 Axes>"
      ]
     },
     "metadata": {
      "needs_background": "light"
     },
     "output_type": "display_data"
    }
   ],
   "source": [
    "# Both vehicle drive in and out the intersection\n",
    "plt.figure()\n",
    "plt.plot(df_intersection_crowd_size.iloc[:,3])\n",
    "plt.plot(df_intersection_vehnum.iloc[:,6]+df_intersection_vehnum.iloc[:,7]+df_outIntersection_vehnum.iloc[:,6]+df_outIntersection_vehnum.iloc[:,7],color='red')"
   ]
  },
  {
   "cell_type": "code",
   "execution_count": 139,
   "metadata": {},
   "outputs": [
    {
     "data": {
      "image/png": "[encoded data removed]",
      "text/plain": [
       "<matplotlib.figure.Figure at 0x1a36bd46c18>"
      ]
     },
     "metadata": {
      "needs_background": "light"
     },
     "output_type": "display_data"
    },
    {
     "data": {
      "image/png": "[encoded data removed]",
      "text/plain": [
       "<matplotlib.figure.Figure at 0x1a36a8f0a58>"
      ]
     },
     "metadata": {
      "needs_background": "light"
     },
     "output_type": "display_data"
    }
   ],
   "source": [
    "for i in range(3,5,1):\n",
    "    plt.figure()\n",
    "    minCrowdSize = min(df_intersection_crowd_size.iloc[:,i])\n",
    "    maxCrowdSize = max(df_intersection_crowd_size.iloc[:,i])\n",
    "    plt.hist(df_intersection_crowd_size.iloc[:,i],bins=range(minCrowdSize,maxCrowdSize+1,1),color='green',alpha = 0.5,label='Intersection')\n",
    "    plt.hist(df_intersection_vehnum.iloc[:,i*2],bins=range(minCrowdSize,maxCrowdSize+1,1),color='red',alpha = 0.5,label='North In')\n",
    "    plt.hist(df_intersection_vehnum.iloc[:,i*2+1],bins=range(minCrowdSize,maxCrowdSize+1,1),color='blue',alpha = 0.5,label='South In')\n",
    "    plt.title(\"Distribution of Crowd Interval at Intersection \" + str(i))\n",
    "    plt.legend()\n",
    "    plt.xlabel('Size of Vehicle Crowd')\n",
    "    plt.ylabel('Frequency')"
   ]
  },
  {
   "cell_type": "code",
   "execution_count": 140,
   "metadata": {},
   "outputs": [
    {
     "data": {
      "image/png": "[encoded data removed]",
      "text/plain": [
       "<matplotlib.figure.Figure at 0x1a36a9c7b38>"
      ]
     },
     "metadata": {
      "needs_background": "light"
     },
     "output_type": "display_data"
    },
    {
     "data": {
      "image/png": "[encoded data removed]",
      "text/plain": [
       "<matplotlib.figure.Figure at 0x1a36768be10>"
      ]
     },
     "metadata": {
      "needs_background": "light"
     },
     "output_type": "display_data"
    }
   ],
   "source": [
    "for i in range(3,5,1):\n",
    "    plt.figure()\n",
    "    minCrowdSize = min(df_intersection_crowd_size.iloc[:,i])\n",
    "    maxCrowdSize = max(df_intersection_crowd_size.iloc[:,i])\n",
    "    plt.hist(df_intersection_crowd_size.iloc[:,i],bins=range(minCrowdSize,maxCrowdSize+1,1),color='green',alpha = 0.5,label='Intersection')\n",
    "    plt.hist(df_outIntersection_vehnum.iloc[:,i*2],bins=range(minCrowdSize,maxCrowdSize+1,1),color='red',alpha = 0.5,label='North Out')\n",
    "    plt.hist(df_outIntersection_vehnum.iloc[:,i*2+1],bins=range(minCrowdSize,maxCrowdSize+1,1),color='blue',alpha = 0.5,label='South Out')\n",
    "    plt.title(\"Distribution of Crowd Interval at Intersection \" + str(i))\n",
    "    plt.legend()\n",
    "    plt.xlabel('Size of Vehicle Crowd')\n",
    "    plt.ylabel('Frequency')"
   ]
  },
  {
   "cell_type": "code",
   "execution_count": 84,
   "metadata": {},
   "outputs": [
    {
     "data": {
      "text/plain": [
       "[<matplotlib.lines.Line2D at 0x1a3694b9470>]"
      ]
     },
     "execution_count": 84,
     "metadata": {},
     "output_type": "execute_result"
    },
    {
     "data": {
      "image/png": "[encoded data removed]",
      "text/plain": [
       "<matplotlib.figure.Figure at 0x1a36a9c7a20>"
      ]
     },
     "metadata": {
      "needs_background": "light"
     },
     "output_type": "display_data"
    }
   ],
   "source": [
    "plt.plot(df_all_edge_detection.iloc[2900:3000,22])\n",
    "plt.plot(df_traffic_light.iloc[2900:3000,3])\n",
    "plt.plot(df_intersection_vehnum.iloc[2900:3000,7])"
   ]
  },
  {
   "cell_type": "code",
   "execution_count": 85,
   "metadata": {},
   "outputs": [
    {
     "data": {
      "text/plain": [
       "[<matplotlib.lines.Line2D at 0x1a36afab048>]"
      ]
     },
     "execution_count": 85,
     "metadata": {},
     "output_type": "execute_result"
    },
    {
     "data": {
      "image/png": "[encoded data removed]",
      "text/plain": [
       "<matplotlib.figure.Figure at 0x1a36af1b0f0>"
      ]
     },
     "metadata": {
      "needs_background": "light"
     },
     "output_type": "display_data"
    }
   ],
   "source": [
    "plt.plot(df_all_edge_detection.iloc[2900:2960,8]) #\n",
    "plt.plot(df_traffic_light.iloc[2900:2960,4])\n",
    "plt.plot(df_intersection_vehnum.iloc[2900:2960,8])"
   ]
  },
  {
   "cell_type": "code",
   "execution_count": 9,
   "metadata": {},
   "outputs": [
    {
     "data": {
      "text/plain": [
       "[<matplotlib.lines.Line2D at 0x26681223da0>]"
      ]
     },
     "execution_count": 9,
     "metadata": {},
     "output_type": "execute_result"
    },
    {
     "data": {
      "image/png": "[encoded data removed]",
      "text/plain": [
       "<Figure size 432x288 with 1 Axes>"
      ]
     },
     "metadata": {
      "needs_background": "light"
     },
     "output_type": "display_data"
    }
   ],
   "source": [
    "plt.plot(df_intersection_vehnum.iloc[1800:1900,2])\n",
    "plt.plot(df_traffic_light.iloc[1800:1900,1])"
   ]
  },
  {
   "cell_type": "code",
   "execution_count": 87,
   "metadata": {},
   "outputs": [
    {
     "data": {
      "text/plain": [
       "[<matplotlib.lines.Line2D at 0x1a36b074a90>]"
      ]
     },
     "execution_count": 87,
     "metadata": {},
     "output_type": "execute_result"
    },
    {
     "data": {
      "image/png": "[encoded data removed]",
      "text/plain": [
       "<matplotlib.figure.Figure at 0x1a36afdd080>"
      ]
     },
     "metadata": {
      "needs_background": "light"
     },
     "output_type": "display_data"
    }
   ],
   "source": [
    "plt.plot(df_outIntersection_vehnum.iloc[3000:3100,8])\n",
    "plt.plot(df_traffic_light.iloc[3000:3100,4])"
   ]
  },
  {
   "cell_type": "code",
   "execution_count": 88,
   "metadata": {},
   "outputs": [
    {
     "data": {
      "text/plain": [
       "[<matplotlib.lines.Line2D at 0x1a36b7ae080>]"
      ]
     },
     "execution_count": 88,
     "metadata": {},
     "output_type": "execute_result"
    },
    {
     "data": {
      "image/png": "[encoded data removed]",
      "text/plain": [
       "<matplotlib.figure.Figure at 0x1a36afe3eb8>"
      ]
     },
     "metadata": {
      "needs_background": "light"
     },
     "output_type": "display_data"
    }
   ],
   "source": [
    "plt.plot(df_all_edge_detection.iloc[3000:3300,6])\n",
    "plt.plot(df_all_edge_detection.iloc[3000:3300,8])\n",
    "#plt.plot(df_traffic_light.iloc[3000:3100,4])\n",
    "#plt.plot(df_outIntersection_vehnum.iloc[3000:3100,9])"
   ]
  },
  {
   "cell_type": "code",
   "execution_count": 89,
   "metadata": {},
   "outputs": [
    {
     "data": {
      "text/plain": [
       "[<matplotlib.lines.Line2D at 0x1a36b80deb8>]"
      ]
     },
     "execution_count": 89,
     "metadata": {},
     "output_type": "execute_result"
    },
    {
     "data": {
      "image/png": "[encoded data removed]",
      "text/plain": [
       "<matplotlib.figure.Figure at 0x1a36afbc470>"
      ]
     },
     "metadata": {
      "needs_background": "light"
     },
     "output_type": "display_data"
    }
   ],
   "source": [
    "plt.plot(df_all_edge_detection.iloc[3000:3200,6])"
   ]
  },
  {
   "cell_type": "code",
   "execution_count": 550,
   "metadata": {},
   "outputs": [],
   "source": [
    "# caculate the interval between vehicle crowd, I5(detc 6 7) I6(detc 8 9) Not accurate --V1.0\n",
    "nums = [6,7,8,9]\n",
    "intervalList = []\n",
    "minCrowdSize = 3\n",
    "maxTimeIntervalInCrowd = 3\n",
    "for num in nums:\n",
    "    interval = 0\n",
    "    detectorInterval = []\n",
    "    currentTimeIntervalInCrowd = 0\n",
    "    currentCrowdSize = 0\n",
    "    crowdFlag = 0\n",
    "    for key, value in df_all_edge_detection.iloc[:,num].iteritems(): \n",
    "        if value == 0:\n",
    "            interval = interval + 1\n",
    "            if interval > maxTimeIntervalInCrowd:\n",
    "                crowdFlag = 0\n",
    "                currentCrowdSize = 0\n",
    "        else:\n",
    "            currentCrowdSize = currentCrowdSize + 1\n",
    "            if currentCrowdSize >= minCrowdSize:\n",
    "                if crowdFlag == 0:\n",
    "                    detectorInterval.append(interval)\n",
    "                crowdFlag = 1\n",
    "                interval = 0\n",
    "            else:\n",
    "                # if current veh# < 3, interval still increase\n",
    "                interval = interval + 1\n",
    "    intervalList.append(detectorInterval)"
   ]
  },
  {
   "cell_type": "code",
   "execution_count": 68,
   "metadata": {},
   "outputs": [],
   "source": [
    "# caculate the interval between vehicle crowd, I5(detc 6 7) I6(detc 8 9)  --V2.0\n",
    "\n",
    "nums = [6,7,8,9]\n",
    "intervalList = []\n",
    "minCrowdSize = 3\n",
    "maxTimeIntervalInCrowd = 3\n",
    "\n",
    "for num in nums:\n",
    "    interval = 0\n",
    "    firstVehicleInterval = 0\n",
    "    detectorInterval = []\n",
    "    currentTimeIntervalInCrowd = 0\n",
    "    currentCrowdSize = 0\n",
    "    crowdFlag = 0\n",
    "    firstVehicleFlag = 0\n",
    "    for key, value in df_all_edge_detection.iloc[:,num].iteritems(): \n",
    "        interval = interval + 1\n",
    "        if value == 0:\n",
    "            if interval == maxTimeIntervalInCrowd:\n",
    "                crowdFlag = 0\n",
    "                currentCrowdSize = 0\n",
    "            elif interval > maxTimeIntervalInCrowd:\n",
    "                crowdFlag = 0\n",
    "            else:\n",
    "                currentCrowdSize = currentCrowdSize\n",
    "\n",
    "            if firstVehicleFlag == 1 and interval - firstVehicleInterval >= maxTimeIntervalInCrowd:\n",
    "                currentCrowdSize = 0\n",
    "                firstVehicleFlag = 0\n",
    "                firstVehicleInterval = 0\n",
    "\n",
    "        else:\n",
    "            currentCrowdSize = currentCrowdSize + 1        \n",
    "            if currentCrowdSize >= minCrowdSize:            \n",
    "                if crowdFlag == 0:\n",
    "                    detectorInterval.append(firstVehicleInterval)\n",
    "                    firstVehicleInterval = 0\n",
    "                    firstVehicleFlag = 0\n",
    "                crowdFlag = 1\n",
    "                interval = 0\n",
    "            elif currentCrowdSize == 1:\n",
    "                if crowdFlag == 0:\n",
    "                    firstVehicleInterval = interval\n",
    "                    firstVehicleFlag = 1\n",
    "            else:\n",
    "                # if current 1< veh# < 3, interval still increase\n",
    "                continue\n",
    "    intervalList.append(detectorInterval)"
   ]
  },
  {
   "cell_type": "code",
   "execution_count": 64,
   "metadata": {},
   "outputs": [],
   "source": [
    "a = [(1,11),(2,22),(3,33)]"
   ]
  },
  {
   "cell_type": "code",
   "execution_count": 67,
   "metadata": {},
   "outputs": [
    {
     "data": {
      "text/plain": [
       "3"
      ]
     },
     "execution_count": 67,
     "metadata": {},
     "output_type": "execute_result"
    }
   ],
   "source": [
    "a[2][0]"
   ]
  },
  {
   "cell_type": "code",
   "execution_count": 81,
   "metadata": {
    "scrolled": true
   },
   "outputs": [
    {
     "name": "stdout",
     "output_type": "stream",
     "text": [
      "[1, 4, 11, 6, 8, 7]\n",
      "[4, 6, 5, 7, 3, 4]\n"
     ]
    }
   ],
   "source": [
    "# test the result\n",
    "\n",
    "test_list = [1,1,1,1,0,0,0,1,0,0,1,1,1,1,0,1,0,0,0,0,1,0,0,0,0,0,1,1,1,1,1,0,0,0,0,0,1,1,1,1,0,1,0,0,1,0,0,1,0,0,0,1,0,0,0,1,1,1,0,0,0,0,0,0,1,0,0,1,1,1,0,0,0,0]\n",
    "df_test_list = pd.DataFrame(test_list,columns =  [\"size\"])\n",
    "\n",
    "minCrowdSize = 3\n",
    "maxIntervalInCrowd = 3\n",
    "\n",
    "interval = 0\n",
    "firstVehicleInterval = 0\n",
    "detectorInterval = []\n",
    "currentTimeIntervalInCrowd = 0\n",
    "currentCrowdSize = 0\n",
    "crowdFlag = 0\n",
    "firstVehicleFlag = 0\n",
    "crowdSizeList = []\n",
    "for key, value in df_test_list[\"size\"].iteritems(): \n",
    "    interval = interval + 1\n",
    "    if value == 0:\n",
    "        if firstVehicleFlag == 1 and interval - firstVehicleInterval >= maxIntervalInCrowd:\n",
    "            currentCrowdSize = 0\n",
    "            firstVehicleFlag = 0\n",
    "            firstVehicleInterval = 0\n",
    "                    \n",
    "        if interval == maxIntervalInCrowd and crowdFlag == 1:\n",
    "            crowdSizeList.append(currentCrowdSize)\n",
    "            crowdFlag = 0\n",
    "            currentCrowdSize = 0\n",
    "        \n",
    "    else:\n",
    "        currentCrowdSize = currentCrowdSize + 1        \n",
    "        if currentCrowdSize >= minCrowdSize:            \n",
    "            if crowdFlag == 0:\n",
    "                detectorInterval.append(firstVehicleInterval)\n",
    "                firstVehicleInterval = 0\n",
    "                firstVehicleFlag = 0\n",
    "            crowdFlag = 1\n",
    "            interval = 0\n",
    "        elif currentCrowdSize == 1:\n",
    "            if crowdFlag == 0:\n",
    "                firstVehicleInterval = interval\n",
    "                firstVehicleFlag = 1\n",
    "        else:\n",
    "            # if current 1< veh# < 3, interval still increase\n",
    "            continue\n",
    "\n",
    "if crowdFlag == 1:\n",
    "    crowdSizeList.append(currentCrowdSize)\n",
    "            \n",
    "print(detectorInterval)\n",
    "print(crowdSizeList)"
   ]
  },
  {
   "cell_type": "code",
   "execution_count": 95,
   "metadata": {},
   "outputs": [],
   "source": [
    "# combine the approach interarrival data into the intersection interarrival data\n",
    "intersectionArrivalIntervalList = []\n",
    "for i in range(0,len(intervalList),2):\n",
    "    intersectionArrivalIntervalList.append(intervalList[i][1:] + intervalList[i+1][1:])"
   ]
  },
  {
   "cell_type": "code",
   "execution_count": 96,
   "metadata": {},
   "outputs": [
    {
     "data": {
      "image/png": "[encoded data removed]",
      "text/plain": [
       "<matplotlib.figure.Figure at 0x1a36bca2f28>"
      ]
     },
     "metadata": {
      "needs_background": "light"
     },
     "output_type": "display_data"
    },
    {
     "data": {
      "image/png": "[encoded data removed]",
      "text/plain": [
       "<matplotlib.figure.Figure at 0x1a36bcd2c88>"
      ]
     },
     "metadata": {
      "needs_background": "light"
     },
     "output_type": "display_data"
    }
   ],
   "source": [
    "for i in range(2):\n",
    "    plt.figure()\n",
    "    minInterval = min(intersectionArrivalIntervalList[i])\n",
    "    maxInterval = max(intersectionArrivalIntervalList[i])\n",
    "    plt.hist(intersectionArrivalIntervalList[i],bins=range(minInterval-minInterval%10,maxInterval-maxInterval%10+15,1),color='red')\n",
    "    plt.title(\"Distribution of Crowd Interval at Intersection \" + str(i+5))\n",
    "    plt.xlabel('Range of Time (s)')\n",
    "    plt.ylabel('Frequency')"
   ]
  },
  {
   "cell_type": "code",
   "execution_count": 97,
   "metadata": {},
   "outputs": [
    {
     "data": {
      "image/png": "[encoded data removed]",
      "text/plain": [
       "<matplotlib.figure.Figure at 0x1a36bca2400>"
      ]
     },
     "metadata": {
      "needs_background": "light"
     },
     "output_type": "display_data"
    },
    {
     "data": {
      "image/png": "[encoded data removed]",
      "text/plain": [
       "<matplotlib.figure.Figure at 0x1a36a7e5198>"
      ]
     },
     "metadata": {
      "needs_background": "light"
     },
     "output_type": "display_data"
    },
    {
     "data": {
      "image/png": "[encoded data removed]",
      "text/plain": [
       "<matplotlib.figure.Figure at 0x1a36a6ff390>"
      ]
     },
     "metadata": {
      "needs_background": "light"
     },
     "output_type": "display_data"
    },
    {
     "data": {
      "image/png": "[encoded data removed]",
      "text/plain": [
       "<matplotlib.figure.Figure at 0x1a36a73bb38>"
      ]
     },
     "metadata": {
      "needs_background": "light"
     },
     "output_type": "display_data"
    }
   ],
   "source": [
    "for num in nums:\n",
    "    plt.figure()\n",
    "    minInterval = min(intervalList[num-6][1:])\n",
    "    maxInterval = max(intervalList[num-6][1:])\n",
    "    plt.hist(intervalList[num-6][1:],bins=range(minInterval-minInterval%10,maxInterval-maxInterval%10+15,1))\n",
    "    plt.title(\"Distribution of Crowd Interval at Detector \" + str(num))\n",
    "    plt.xlabel('Range of Time (s)')\n",
    "    plt.ylabel('Frequency')"
   ]
  },
  {
   "cell_type": "code",
   "execution_count": 18,
   "metadata": {},
   "outputs": [],
   "source": [
    "# the following is to caculate the link delay\n",
    "# up and down link\n",
    "detectorDownNameList = [\"e1Detector_E12_0_0\",\"e1Detector_E12_1_1\",\"e1Detector_E23_0_4\",\"e1Detector_E23_1_5\",\n",
    "                        \"e1Detector_E34_0_8\",\"e1Detector_E34_1_9\",\"e1Detector_E45_0_12\",\"e1Detector_E45_1_13\",\n",
    "                        \"e1Detector_E56_0_16\",\"e1Detector_E56_1_17\",\"e1Detector_E67_0_20\",\"e1Detector_E67_1_21\",\n",
    "                        \"e1Detector_E78_0_24\",\"e1Detector_E78_1_25\",\"e1Detector_E89_0_28\",\"e1Detector_E89_1_29\"]\n",
    "detectorUpNameList = [\"e1Detector_E09_1_30\",\"e1Detector_E09_0_31\",\"e1Detector_E98_1_26\",\"e1Detector_E98_0_27\",\n",
    "                      \"e1Detector_E87_1_22\",\"e1Detector_E87_0_23\",\"e1Detector_E76_1_18\",\"e1Detector_E76_0_19\",\n",
    "                      \"e1Detector_E65_1_14\",\"e1Detector_E65_0_15\",\"e1Detector_E54_1_10\",\"e1Detector_E54_0_11\",\n",
    "                      \"e1Detector_E43_1_6\",\"e1Detector_E43_0_7\",\"e1Detector_E32_1_2\",\"e1Detector_E32_0_3\"]\n",
    "detectorOutDownNameList = [\"out_e1Detector_E23_0_4\",\"out_e1Detector_E23_1_5\",\"out_e1Detector_E34_0_8\",\"out_e1Detector_E34_1_9\",\n",
    "                           \"out_e1Detector_E45_0_12\",\"out_e1Detector_E45_1_13\",\"out_e1Detector_E56_0_16\",\"out_e1Detector_E56_1_17\",\n",
    "                           \"out_e1Detector_E67_0_20\",\"out_e1Detector_E67_1_21\",\"out_e1Detector_E78_0_24\",\"out_e1Detector_E78_1_25\",\n",
    "                           \"out_e1Detector_E89_0_28\",\"out_e1Detector_E89_1_29\",\"out_e1Detector_E90_1_30\",\"out_e1Detector_E90_0_31\"]\n",
    "detectorOutUpNameList = [\"out_e1Detector_E98_1_26\",\"out_e1Detector_E98_0_27\",\"out_e1Detector_E87_1_22\",\"out_e1Detector_E87_0_23\",\n",
    "                         \"out_e1Detector_E76_1_18\",\"out_e1Detector_E76_0_19\",\"out_e1Detector_E65_1_14\",\"out_e1Detector_E65_0_15\",\n",
    "                         \"out_e1Detector_E54_1_10\",\"out_e1Detector_E54_0_11\",\"out_e1Detector_E43_1_6\",\"out_e1Detector_E43_0_7\",\n",
    "                         \"out_e1Detector_E32_1_2\",\"out_e1Detector_E32_0_3\",\"out_e1Detector_E21_0_0\",\"out_e1Detector_E21_1_1\"]\n",
    "\n",
    "carIDFile = open('carIDFile.txt', \"r\")\n",
    "for line in carIDFile:\n",
    "    carIDList = line.split(\",\")\n",
    "carIDFile.close() \n",
    "\n",
    "carDownIDList = []\n",
    "carUpIDList = []\n",
    "for carID in carIDList:\n",
    "    if carID[0] == \"u\":\n",
    "        carUpIDList.append(carID)\n",
    "    else:\n",
    "        carDownIDList.append(carID)"
   ]
  },
  {
   "cell_type": "code",
   "execution_count": 19,
   "metadata": {},
   "outputs": [
    {
     "name": "stderr",
     "output_type": "stream",
     "text": [
      "C:\\Users\\byang12\\AppData\\Local\\Continuum\\anaconda3\\lib\\site-packages\\ipykernel_launcher.py:5: UserWarning: This pattern has match groups. To actually get the groups, use str.extract.\n",
      "  \"\"\"\n"
     ]
    }
   ],
   "source": [
    "df_ID_DownEdge_Time = pd.DataFrame(columns =  [\"carID\", \"DownEdge\", \"Timestamp\"])\n",
    "i = 0\n",
    "for carID in carDownIDList:\n",
    "    for edge in detectorDownNameList:\n",
    "        record = df2.loc[df2[edge].str.contains(\"('\"+carID+\"',)\")]\n",
    "        if not record.empty:\n",
    "            df_ID_DownEdge_Time.loc[i] = [carID,edge[11:14],record.index[0]]\n",
    "            i = i + 1"
   ]
  },
  {
   "cell_type": "code",
   "execution_count": 20,
   "metadata": {},
   "outputs": [
    {
     "name": "stderr",
     "output_type": "stream",
     "text": [
      "C:\\Users\\byang12\\AppData\\Local\\Continuum\\anaconda3\\lib\\site-packages\\ipykernel_launcher.py:5: UserWarning: This pattern has match groups. To actually get the groups, use str.extract.\n",
      "  \"\"\"\n"
     ]
    }
   ],
   "source": [
    "df_ID_UpEdge_Time = pd.DataFrame(columns =  [\"carID\", \"UpEdge\", \"Timestamp\"])\n",
    "i = 0\n",
    "for carID in carUpIDList:\n",
    "    for edge in detectorUpNameList:\n",
    "        record = df2.loc[df2[edge].str.contains(\"('\"+carID+\"',)\")]\n",
    "        if not record.empty:\n",
    "            df_ID_UpEdge_Time.loc[i] = [carID,edge[11:14],record.index[0]]\n",
    "            i = i + 1"
   ]
  },
  {
   "cell_type": "code",
   "execution_count": 29,
   "metadata": {},
   "outputs": [
    {
     "name": "stderr",
     "output_type": "stream",
     "text": [
      "C:\\Users\\byang12\\AppData\\Local\\Continuum\\anaconda3\\lib\\site-packages\\ipykernel_launcher.py:5: UserWarning: This pattern has match groups. To actually get the groups, use str.extract.\n",
      "  \"\"\"\n"
     ]
    }
   ],
   "source": [
    "df_ID_DownOutEdge_Time = pd.DataFrame(columns =  [\"carID\", \"DownEdge\", \"Timestamp\"])\n",
    "i = 0\n",
    "for carID in carDownIDList:\n",
    "    for edge in detectorOutDownNameList:\n",
    "        record = df2.loc[df2[edge].str.contains(\"('\"+carID+\"',)\")]\n",
    "        if not record.empty:\n",
    "            df_ID_DownOutEdge_Time.loc[i] = [carID,edge[15:18],record.index[0]]\n",
    "            i = i + 1"
   ]
  },
  {
   "cell_type": "code",
   "execution_count": 30,
   "metadata": {},
   "outputs": [
    {
     "name": "stderr",
     "output_type": "stream",
     "text": [
      "C:\\Users\\byang12\\AppData\\Local\\Continuum\\anaconda3\\lib\\site-packages\\ipykernel_launcher.py:5: UserWarning: This pattern has match groups. To actually get the groups, use str.extract.\n",
      "  \"\"\"\n"
     ]
    }
   ],
   "source": [
    "df_ID_UpOutEdge_Time = pd.DataFrame(columns =  [\"carID\", \"UpEdge\", \"Timestamp\"])\n",
    "i = 0\n",
    "for carID in carUpIDList:\n",
    "    for edge in detectorOutUpNameList:\n",
    "        record = df2.loc[df2[edge].str.contains(\"('\"+carID+\"',)\")]\n",
    "        if not record.empty:\n",
    "            df_ID_UpOutEdge_Time.loc[i] = [carID,edge[15:18],record.index[0]]\n",
    "            i = i + 1"
   ]
  },
  {
   "cell_type": "code",
   "execution_count": 42,
   "metadata": {},
   "outputs": [
    {
     "data": {
      "text/plain": [
       "4"
      ]
     },
     "execution_count": 42,
     "metadata": {},
     "output_type": "execute_result"
    }
   ],
   "source": [
    "4%8"
   ]
  },
  {
   "cell_type": "code",
   "execution_count": 40,
   "metadata": {},
   "outputs": [
    {
     "data": {
      "text/html": [
       "<div>\n",
       "<style scoped>\n",
       "    .dataframe tbody tr th:only-of-type {\n",
       "        vertical-align: middle;\n",
       "    }\n",
       "\n",
       "    .dataframe tbody tr th {\n",
       "        vertical-align: top;\n",
       "    }\n",
       "\n",
       "    .dataframe thead th {\n",
       "        text-align: right;\n",
       "    }\n",
       "</style>\n",
       "<table border=\"1\" class=\"dataframe\">\n",
       "  <thead>\n",
       "    <tr style=\"text-align: right;\">\n",
       "      <th></th>\n",
       "      <th>carID</th>\n",
       "      <th>DownEdge</th>\n",
       "      <th>Timestamp</th>\n",
       "    </tr>\n",
       "  </thead>\n",
       "  <tbody>\n",
       "    <tr>\n",
       "      <th>0</th>\n",
       "      <td>down_4</td>\n",
       "      <td>E12</td>\n",
       "      <td>51</td>\n",
       "    </tr>\n",
       "    <tr>\n",
       "      <th>1</th>\n",
       "      <td>down_4</td>\n",
       "      <td>E23</td>\n",
       "      <td>72</td>\n",
       "    </tr>\n",
       "    <tr>\n",
       "      <th>2</th>\n",
       "      <td>down_4</td>\n",
       "      <td>E34</td>\n",
       "      <td>130</td>\n",
       "    </tr>\n",
       "    <tr>\n",
       "      <th>3</th>\n",
       "      <td>down_4</td>\n",
       "      <td>E45</td>\n",
       "      <td>157</td>\n",
       "    </tr>\n",
       "    <tr>\n",
       "      <th>4</th>\n",
       "      <td>down_4</td>\n",
       "      <td>E56</td>\n",
       "      <td>264</td>\n",
       "    </tr>\n",
       "    <tr>\n",
       "      <th>5</th>\n",
       "      <td>down_4</td>\n",
       "      <td>E67</td>\n",
       "      <td>317</td>\n",
       "    </tr>\n",
       "    <tr>\n",
       "      <th>6</th>\n",
       "      <td>down_4</td>\n",
       "      <td>E78</td>\n",
       "      <td>334</td>\n",
       "    </tr>\n",
       "    <tr>\n",
       "      <th>7</th>\n",
       "      <td>down_4</td>\n",
       "      <td>E89</td>\n",
       "      <td>408</td>\n",
       "    </tr>\n",
       "    <tr>\n",
       "      <th>8</th>\n",
       "      <td>down_5</td>\n",
       "      <td>E12</td>\n",
       "      <td>54</td>\n",
       "    </tr>\n",
       "    <tr>\n",
       "      <th>9</th>\n",
       "      <td>down_5</td>\n",
       "      <td>E23</td>\n",
       "      <td>76</td>\n",
       "    </tr>\n",
       "    <tr>\n",
       "      <th>10</th>\n",
       "      <td>down_5</td>\n",
       "      <td>E34</td>\n",
       "      <td>127</td>\n",
       "    </tr>\n",
       "    <tr>\n",
       "      <th>11</th>\n",
       "      <td>down_5</td>\n",
       "      <td>E45</td>\n",
       "      <td>155</td>\n",
       "    </tr>\n",
       "    <tr>\n",
       "      <th>12</th>\n",
       "      <td>down_5</td>\n",
       "      <td>E56</td>\n",
       "      <td>262</td>\n",
       "    </tr>\n",
       "    <tr>\n",
       "      <th>13</th>\n",
       "      <td>down_5</td>\n",
       "      <td>E67</td>\n",
       "      <td>316</td>\n",
       "    </tr>\n",
       "    <tr>\n",
       "      <th>14</th>\n",
       "      <td>down_5</td>\n",
       "      <td>E78</td>\n",
       "      <td>334</td>\n",
       "    </tr>\n",
       "    <tr>\n",
       "      <th>15</th>\n",
       "      <td>down_5</td>\n",
       "      <td>E89</td>\n",
       "      <td>408</td>\n",
       "    </tr>\n",
       "    <tr>\n",
       "      <th>16</th>\n",
       "      <td>down_7</td>\n",
       "      <td>E12</td>\n",
       "      <td>61</td>\n",
       "    </tr>\n",
       "    <tr>\n",
       "      <th>17</th>\n",
       "      <td>down_7</td>\n",
       "      <td>E23</td>\n",
       "      <td>127</td>\n",
       "    </tr>\n",
       "    <tr>\n",
       "      <th>18</th>\n",
       "      <td>down_7</td>\n",
       "      <td>E34</td>\n",
       "      <td>150</td>\n",
       "    </tr>\n",
       "    <tr>\n",
       "      <th>19</th>\n",
       "      <td>down_7</td>\n",
       "      <td>E45</td>\n",
       "      <td>226</td>\n",
       "    </tr>\n",
       "    <tr>\n",
       "      <th>20</th>\n",
       "      <td>down_7</td>\n",
       "      <td>E56</td>\n",
       "      <td>291</td>\n",
       "    </tr>\n",
       "    <tr>\n",
       "      <th>21</th>\n",
       "      <td>down_7</td>\n",
       "      <td>E67</td>\n",
       "      <td>319</td>\n",
       "    </tr>\n",
       "    <tr>\n",
       "      <th>22</th>\n",
       "      <td>down_7</td>\n",
       "      <td>E78</td>\n",
       "      <td>337</td>\n",
       "    </tr>\n",
       "    <tr>\n",
       "      <th>23</th>\n",
       "      <td>down_7</td>\n",
       "      <td>E89</td>\n",
       "      <td>409</td>\n",
       "    </tr>\n",
       "    <tr>\n",
       "      <th>24</th>\n",
       "      <td>down_10</td>\n",
       "      <td>E12</td>\n",
       "      <td>66</td>\n",
       "    </tr>\n",
       "    <tr>\n",
       "      <th>25</th>\n",
       "      <td>down_10</td>\n",
       "      <td>E23</td>\n",
       "      <td>127</td>\n",
       "    </tr>\n",
       "    <tr>\n",
       "      <th>26</th>\n",
       "      <td>down_10</td>\n",
       "      <td>E34</td>\n",
       "      <td>150</td>\n",
       "    </tr>\n",
       "    <tr>\n",
       "      <th>27</th>\n",
       "      <td>down_10</td>\n",
       "      <td>E45</td>\n",
       "      <td>225</td>\n",
       "    </tr>\n",
       "    <tr>\n",
       "      <th>28</th>\n",
       "      <td>down_10</td>\n",
       "      <td>E56</td>\n",
       "      <td>290</td>\n",
       "    </tr>\n",
       "    <tr>\n",
       "      <th>29</th>\n",
       "      <td>down_10</td>\n",
       "      <td>E67</td>\n",
       "      <td>318</td>\n",
       "    </tr>\n",
       "    <tr>\n",
       "      <th>...</th>\n",
       "      <td>...</td>\n",
       "      <td>...</td>\n",
       "      <td>...</td>\n",
       "    </tr>\n",
       "    <tr>\n",
       "      <th>70</th>\n",
       "      <td>down_19</td>\n",
       "      <td>E78</td>\n",
       "      <td>340</td>\n",
       "    </tr>\n",
       "    <tr>\n",
       "      <th>71</th>\n",
       "      <td>down_19</td>\n",
       "      <td>E89</td>\n",
       "      <td>413</td>\n",
       "    </tr>\n",
       "    <tr>\n",
       "      <th>72</th>\n",
       "      <td>down_20</td>\n",
       "      <td>E12</td>\n",
       "      <td>98</td>\n",
       "    </tr>\n",
       "    <tr>\n",
       "      <th>73</th>\n",
       "      <td>down_20</td>\n",
       "      <td>E23</td>\n",
       "      <td>133</td>\n",
       "    </tr>\n",
       "    <tr>\n",
       "      <th>74</th>\n",
       "      <td>down_20</td>\n",
       "      <td>E34</td>\n",
       "      <td>156</td>\n",
       "    </tr>\n",
       "    <tr>\n",
       "      <th>75</th>\n",
       "      <td>down_20</td>\n",
       "      <td>E45</td>\n",
       "      <td>232</td>\n",
       "    </tr>\n",
       "    <tr>\n",
       "      <th>76</th>\n",
       "      <td>down_20</td>\n",
       "      <td>E56</td>\n",
       "      <td>297</td>\n",
       "    </tr>\n",
       "    <tr>\n",
       "      <th>77</th>\n",
       "      <td>down_20</td>\n",
       "      <td>E67</td>\n",
       "      <td>325</td>\n",
       "    </tr>\n",
       "    <tr>\n",
       "      <th>78</th>\n",
       "      <td>down_20</td>\n",
       "      <td>E78</td>\n",
       "      <td>343</td>\n",
       "    </tr>\n",
       "    <tr>\n",
       "      <th>79</th>\n",
       "      <td>down_20</td>\n",
       "      <td>E89</td>\n",
       "      <td>416</td>\n",
       "    </tr>\n",
       "    <tr>\n",
       "      <th>80</th>\n",
       "      <td>down_21</td>\n",
       "      <td>E12</td>\n",
       "      <td>103</td>\n",
       "    </tr>\n",
       "    <tr>\n",
       "      <th>81</th>\n",
       "      <td>down_21</td>\n",
       "      <td>E23</td>\n",
       "      <td>135</td>\n",
       "    </tr>\n",
       "    <tr>\n",
       "      <th>82</th>\n",
       "      <td>down_21</td>\n",
       "      <td>E34</td>\n",
       "      <td>158</td>\n",
       "    </tr>\n",
       "    <tr>\n",
       "      <th>83</th>\n",
       "      <td>down_21</td>\n",
       "      <td>E45</td>\n",
       "      <td>231</td>\n",
       "    </tr>\n",
       "    <tr>\n",
       "      <th>84</th>\n",
       "      <td>down_21</td>\n",
       "      <td>E56</td>\n",
       "      <td>296</td>\n",
       "    </tr>\n",
       "    <tr>\n",
       "      <th>85</th>\n",
       "      <td>down_21</td>\n",
       "      <td>E67</td>\n",
       "      <td>324</td>\n",
       "    </tr>\n",
       "    <tr>\n",
       "      <th>86</th>\n",
       "      <td>down_21</td>\n",
       "      <td>E78</td>\n",
       "      <td>342</td>\n",
       "    </tr>\n",
       "    <tr>\n",
       "      <th>87</th>\n",
       "      <td>down_21</td>\n",
       "      <td>E89</td>\n",
       "      <td>416</td>\n",
       "    </tr>\n",
       "    <tr>\n",
       "      <th>88</th>\n",
       "      <td>down_24</td>\n",
       "      <td>E12</td>\n",
       "      <td>108</td>\n",
       "    </tr>\n",
       "    <tr>\n",
       "      <th>89</th>\n",
       "      <td>down_24</td>\n",
       "      <td>E23</td>\n",
       "      <td>136</td>\n",
       "    </tr>\n",
       "    <tr>\n",
       "      <th>90</th>\n",
       "      <td>down_24</td>\n",
       "      <td>E34</td>\n",
       "      <td>159</td>\n",
       "    </tr>\n",
       "    <tr>\n",
       "      <th>91</th>\n",
       "      <td>down_24</td>\n",
       "      <td>E45</td>\n",
       "      <td>232</td>\n",
       "    </tr>\n",
       "    <tr>\n",
       "      <th>92</th>\n",
       "      <td>down_24</td>\n",
       "      <td>E56</td>\n",
       "      <td>298</td>\n",
       "    </tr>\n",
       "    <tr>\n",
       "      <th>93</th>\n",
       "      <td>down_24</td>\n",
       "      <td>E67</td>\n",
       "      <td>326</td>\n",
       "    </tr>\n",
       "    <tr>\n",
       "      <th>94</th>\n",
       "      <td>down_24</td>\n",
       "      <td>E78</td>\n",
       "      <td>344</td>\n",
       "    </tr>\n",
       "    <tr>\n",
       "      <th>95</th>\n",
       "      <td>down_24</td>\n",
       "      <td>E89</td>\n",
       "      <td>417</td>\n",
       "    </tr>\n",
       "    <tr>\n",
       "      <th>96</th>\n",
       "      <td>down_25</td>\n",
       "      <td>E12</td>\n",
       "      <td>114</td>\n",
       "    </tr>\n",
       "    <tr>\n",
       "      <th>97</th>\n",
       "      <td>down_25</td>\n",
       "      <td>E23</td>\n",
       "      <td>138</td>\n",
       "    </tr>\n",
       "    <tr>\n",
       "      <th>98</th>\n",
       "      <td>down_25</td>\n",
       "      <td>E34</td>\n",
       "      <td>161</td>\n",
       "    </tr>\n",
       "    <tr>\n",
       "      <th>99</th>\n",
       "      <td>down_25</td>\n",
       "      <td>E45</td>\n",
       "      <td>233</td>\n",
       "    </tr>\n",
       "  </tbody>\n",
       "</table>\n",
       "<p>100 rows × 3 columns</p>\n",
       "</div>"
      ],
      "text/plain": [
       "      carID DownEdge Timestamp\n",
       "0    down_4      E12        51\n",
       "1    down_4      E23        72\n",
       "2    down_4      E34       130\n",
       "3    down_4      E45       157\n",
       "4    down_4      E56       264\n",
       "5    down_4      E67       317\n",
       "6    down_4      E78       334\n",
       "7    down_4      E89       408\n",
       "8    down_5      E12        54\n",
       "9    down_5      E23        76\n",
       "10   down_5      E34       127\n",
       "11   down_5      E45       155\n",
       "12   down_5      E56       262\n",
       "13   down_5      E67       316\n",
       "14   down_5      E78       334\n",
       "15   down_5      E89       408\n",
       "16   down_7      E12        61\n",
       "17   down_7      E23       127\n",
       "18   down_7      E34       150\n",
       "19   down_7      E45       226\n",
       "20   down_7      E56       291\n",
       "21   down_7      E67       319\n",
       "22   down_7      E78       337\n",
       "23   down_7      E89       409\n",
       "24  down_10      E12        66\n",
       "25  down_10      E23       127\n",
       "26  down_10      E34       150\n",
       "27  down_10      E45       225\n",
       "28  down_10      E56       290\n",
       "29  down_10      E67       318\n",
       "..      ...      ...       ...\n",
       "70  down_19      E78       340\n",
       "71  down_19      E89       413\n",
       "72  down_20      E12        98\n",
       "73  down_20      E23       133\n",
       "74  down_20      E34       156\n",
       "75  down_20      E45       232\n",
       "76  down_20      E56       297\n",
       "77  down_20      E67       325\n",
       "78  down_20      E78       343\n",
       "79  down_20      E89       416\n",
       "80  down_21      E12       103\n",
       "81  down_21      E23       135\n",
       "82  down_21      E34       158\n",
       "83  down_21      E45       231\n",
       "84  down_21      E56       296\n",
       "85  down_21      E67       324\n",
       "86  down_21      E78       342\n",
       "87  down_21      E89       416\n",
       "88  down_24      E12       108\n",
       "89  down_24      E23       136\n",
       "90  down_24      E34       159\n",
       "91  down_24      E45       232\n",
       "92  down_24      E56       298\n",
       "93  down_24      E67       326\n",
       "94  down_24      E78       344\n",
       "95  down_24      E89       417\n",
       "96  down_25      E12       114\n",
       "97  down_25      E23       138\n",
       "98  down_25      E34       161\n",
       "99  down_25      E45       233\n",
       "\n",
       "[100 rows x 3 columns]"
      ]
     },
     "execution_count": 40,
     "metadata": {},
     "output_type": "execute_result"
    }
   ],
   "source": [
    "df_ID_DownEdge_Time.head(100)"
   ]
  },
  {
   "cell_type": "code",
   "execution_count": 50,
   "metadata": {},
   "outputs": [],
   "source": [
    "df_ID_DownEdge_delay = pd.DataFrame(columns =  [\"carID\", \"DownEdge\", \"delay\"])\n",
    "i = 0\n",
    "for index, row in df_ID_DownEdge_Time.iterrows():\n",
    "    if index%8 == 0:\n",
    "        upStreamEdgeTimestamp = row['Timestamp']\n",
    "    else:        \n",
    "        downStreamEdgeTimestamp = row['Timestamp']\n",
    "        df_ID_DownEdge_delay.loc[i] = [row['carID'],row['DownEdge'],downStreamEdgeTimestamp-upStreamEdgeTimestamp]\n",
    "        i = i + 1\n",
    "        upStreamEdgeTimestamp = row['Timestamp']"
   ]
  },
  {
   "cell_type": "code",
   "execution_count": 46,
   "metadata": {},
   "outputs": [],
   "source": [
    "df_ID_UpEdge_delay = pd.DataFrame(columns =  [\"carID\", \"UpEdge\", \"delay\"])\n",
    "i = 0\n",
    "for index, row in df_ID_UpEdge_Time.iterrows():\n",
    "    if index%8 == 0:\n",
    "        upStreamEdgeTimestamp = row['Timestamp']\n",
    "    else:        \n",
    "        downStreamEdgeTimestamp = row['Timestamp']\n",
    "        df_ID_UpEdge_delay.loc[i] = [row['carID'],row['UpEdge'],downStreamEdgeTimestamp-upStreamEdgeTimestamp]\n",
    "        i = i + 1\n",
    "        upStreamEdgeTimestamp = row['Timestamp']"
   ]
  },
  {
   "cell_type": "code",
   "execution_count": 47,
   "metadata": {},
   "outputs": [],
   "source": [
    "df_ID_DownOutEdge_delay = pd.DataFrame(columns =  [\"carID\", \"DownEdge\", \"delay\"])\n",
    "i = 0\n",
    "for index, row in df_ID_DownOutEdge_Time.iterrows():\n",
    "    if index%8 == 0:\n",
    "        upStreamEdgeTimestamp = row['Timestamp']\n",
    "    else:\n",
    "        downStreamEdgeTimestamp = row['Timestamp']\n",
    "        df_ID_DownOutEdge_delay.loc[i] = [row['carID'],row['DownEdge'],downStreamEdgeTimestamp-upStreamEdgeTimestamp]\n",
    "        i = i + 1\n",
    "        upStreamEdgeTimestamp = row['Timestamp']"
   ]
  },
  {
   "cell_type": "code",
   "execution_count": 48,
   "metadata": {},
   "outputs": [],
   "source": [
    "df_ID_UpOutEdge_delay = pd.DataFrame(columns =  [\"carID\", \"UpEdge\", \"delay\"])\n",
    "i = 0\n",
    "for index, row in df_ID_UpOutEdge_Time.iterrows():\n",
    "    if index%8 == 0:\n",
    "        upStreamEdgeTimestamp = row['Timestamp']\n",
    "    else:        \n",
    "        downStreamEdgeTimestamp = row['Timestamp']\n",
    "        df_ID_UpOutEdge_delay.loc[i] = [row['carID'],row['UpEdge'],downStreamEdgeTimestamp-upStreamEdgeTimestamp]\n",
    "        i = i + 1\n",
    "        upStreamEdgeTimestamp = row['Timestamp']"
   ]
  },
  {
   "cell_type": "code",
   "execution_count": 49,
   "metadata": {
    "scrolled": false
   },
   "outputs": [
    {
     "data": {
      "text/html": [
       "<div>\n",
       "<style scoped>\n",
       "    .dataframe tbody tr th:only-of-type {\n",
       "        vertical-align: middle;\n",
       "    }\n",
       "\n",
       "    .dataframe tbody tr th {\n",
       "        vertical-align: top;\n",
       "    }\n",
       "\n",
       "    .dataframe thead th {\n",
       "        text-align: right;\n",
       "    }\n",
       "</style>\n",
       "<table border=\"1\" class=\"dataframe\">\n",
       "  <thead>\n",
       "    <tr style=\"text-align: right;\">\n",
       "      <th></th>\n",
       "      <th>carID</th>\n",
       "      <th>DownEdge</th>\n",
       "      <th>delay</th>\n",
       "    </tr>\n",
       "  </thead>\n",
       "  <tbody>\n",
       "    <tr>\n",
       "      <th>175</th>\n",
       "      <td>down_48</td>\n",
       "      <td>E34</td>\n",
       "      <td>25</td>\n",
       "    </tr>\n",
       "    <tr>\n",
       "      <th>176</th>\n",
       "      <td>down_48</td>\n",
       "      <td>E45</td>\n",
       "      <td>66</td>\n",
       "    </tr>\n",
       "    <tr>\n",
       "      <th>177</th>\n",
       "      <td>down_48</td>\n",
       "      <td>E56</td>\n",
       "      <td>32</td>\n",
       "    </tr>\n",
       "    <tr>\n",
       "      <th>178</th>\n",
       "      <td>down_48</td>\n",
       "      <td>E67</td>\n",
       "      <td>66</td>\n",
       "    </tr>\n",
       "    <tr>\n",
       "      <th>179</th>\n",
       "      <td>down_48</td>\n",
       "      <td>E78</td>\n",
       "      <td>28</td>\n",
       "    </tr>\n",
       "    <tr>\n",
       "      <th>180</th>\n",
       "      <td>down_48</td>\n",
       "      <td>E89</td>\n",
       "      <td>63</td>\n",
       "    </tr>\n",
       "    <tr>\n",
       "      <th>181</th>\n",
       "      <td>down_48</td>\n",
       "      <td>E90</td>\n",
       "      <td>29</td>\n",
       "    </tr>\n",
       "  </tbody>\n",
       "</table>\n",
       "</div>"
      ],
      "text/plain": [
       "       carID DownEdge delay\n",
       "175  down_48      E34    25\n",
       "176  down_48      E45    66\n",
       "177  down_48      E56    32\n",
       "178  down_48      E67    66\n",
       "179  down_48      E78    28\n",
       "180  down_48      E89    63\n",
       "181  down_48      E90    29"
      ]
     },
     "execution_count": 49,
     "metadata": {},
     "output_type": "execute_result"
    }
   ],
   "source": [
    "df_ID_DownOutEdge_delay[df_ID_DownOutEdge_delay['carID'] == 'down_48']"
   ]
  },
  {
   "cell_type": "code",
   "execution_count": 51,
   "metadata": {},
   "outputs": [
    {
     "data": {
      "text/html": [
       "<div>\n",
       "<style scoped>\n",
       "    .dataframe tbody tr th:only-of-type {\n",
       "        vertical-align: middle;\n",
       "    }\n",
       "\n",
       "    .dataframe tbody tr th {\n",
       "        vertical-align: top;\n",
       "    }\n",
       "\n",
       "    .dataframe thead th {\n",
       "        text-align: right;\n",
       "    }\n",
       "</style>\n",
       "<table border=\"1\" class=\"dataframe\">\n",
       "  <thead>\n",
       "    <tr style=\"text-align: right;\">\n",
       "      <th></th>\n",
       "      <th>carID</th>\n",
       "      <th>DownEdge</th>\n",
       "      <th>delay</th>\n",
       "    </tr>\n",
       "  </thead>\n",
       "  <tbody>\n",
       "    <tr>\n",
       "      <th>175</th>\n",
       "      <td>down_48</td>\n",
       "      <td>E23</td>\n",
       "      <td>42</td>\n",
       "    </tr>\n",
       "    <tr>\n",
       "      <th>176</th>\n",
       "      <td>down_48</td>\n",
       "      <td>E34</td>\n",
       "      <td>23</td>\n",
       "    </tr>\n",
       "    <tr>\n",
       "      <th>177</th>\n",
       "      <td>down_48</td>\n",
       "      <td>E45</td>\n",
       "      <td>75</td>\n",
       "    </tr>\n",
       "    <tr>\n",
       "      <th>178</th>\n",
       "      <td>down_48</td>\n",
       "      <td>E56</td>\n",
       "      <td>65</td>\n",
       "    </tr>\n",
       "    <tr>\n",
       "      <th>179</th>\n",
       "      <td>down_48</td>\n",
       "      <td>E67</td>\n",
       "      <td>29</td>\n",
       "    </tr>\n",
       "    <tr>\n",
       "      <th>180</th>\n",
       "      <td>down_48</td>\n",
       "      <td>E78</td>\n",
       "      <td>18</td>\n",
       "    </tr>\n",
       "    <tr>\n",
       "      <th>181</th>\n",
       "      <td>down_48</td>\n",
       "      <td>E89</td>\n",
       "      <td>74</td>\n",
       "    </tr>\n",
       "  </tbody>\n",
       "</table>\n",
       "</div>"
      ],
      "text/plain": [
       "       carID DownEdge delay\n",
       "175  down_48      E23    42\n",
       "176  down_48      E34    23\n",
       "177  down_48      E45    75\n",
       "178  down_48      E56    65\n",
       "179  down_48      E67    29\n",
       "180  down_48      E78    18\n",
       "181  down_48      E89    74"
      ]
     },
     "execution_count": 51,
     "metadata": {},
     "output_type": "execute_result"
    }
   ],
   "source": [
    "df_ID_DownEdge_delay[df_ID_DownEdge_delay['carID'] == 'down_48']"
   ]
  },
  {
   "cell_type": "code",
   "execution_count": 54,
   "metadata": {},
   "outputs": [
    {
     "data": {
      "text/plain": [
       "count        6635\n",
       "unique        948\n",
       "top       up_1373\n",
       "freq            7\n",
       "Name: carID, dtype: object"
      ]
     },
     "execution_count": 54,
     "metadata": {},
     "output_type": "execute_result"
    }
   ],
   "source": [
    "df_ID_UpEdge_delay['carID'].describe()"
   ]
  },
  {
   "cell_type": "code",
   "execution_count": null,
   "metadata": {},
   "outputs": [],
   "source": []
  },
  {
   "cell_type": "code",
   "execution_count": 558,
   "metadata": {
    "scrolled": false
   },
   "outputs": [],
   "source": [
    "# caculate the interval between vehicle crowd, I5(detc 6 7) I6(detc 8 9)\n",
    "detectorNums = [7,8]  # 7:upLink, 8:downLink\n",
    "#intervalList = []\n",
    "DelayList = []\n",
    "minCrowdSize = 3\n",
    "maxTimeIntervalInCrowd = 3\n",
    "for detectorNum in detectorNums:\n",
    "    interval = 0\n",
    "    #detectorInterval = []\n",
    "    intersectionDelayList = []\n",
    "    crowdDelayList = []\n",
    "    currentTimeIntervalInCrowd = 0\n",
    "    currentCrowdSize = 0\n",
    "    crowdFlag = 0\n",
    "    for key, value in df_all_edge_detection.iloc[:,detectorNum].iteritems(): \n",
    "        if value == 0:\n",
    "            interval = interval + 1\n",
    "            if interval > maxTimeIntervalInCrowd:\n",
    "                # caculate current crowd Delay, average of all vehicle\n",
    "                if crowdFlag == 1:\n",
    "                    intersectionDelayList.append(int(np.mean(crowdDelayList)))\n",
    "                    crowdFlag = 0\n",
    "                    currentCrowdSize = 0\n",
    "                    crowdDelayList = []\n",
    "                else:\n",
    "                    continue                    \n",
    "        else:\n",
    "            currentCrowdSize = currentCrowdSize + 1\n",
    "            \n",
    "            if detectorNum == 8:\n",
    "                for i in range(2):\n",
    "                    name = detectorDownNameList[2+i]\n",
    "                    if not df2[name][key] == '()':\n",
    "                        vehicleID = df2[name][key][2:-3]\n",
    "                        currentDelay = int(df_ID_DownEdge_delay['delay'][df_ID_DownEdge_delay['carID'] == vehicleID])\n",
    "                        crowdDelayList.append(currentDelay)\n",
    "            if detectorNum == 7:\n",
    "                for i in range(2):\n",
    "                    name = detectorUpNameList[2+i]\n",
    "                    if not df2[name][key] == '()':\n",
    "                        vehicleID = df2[name][key][2:-3]\n",
    "                        currentDelay = int(df_ID_UpEdge_delay['delay'][df_ID_UpEdge_delay['carID'] == vehicleID])\n",
    "                        crowdDelayList.append(currentDelay)             \n",
    "            \n",
    "            if currentCrowdSize == minCrowdSize:\n",
    "                if crowdFlag == 0:\n",
    "                    detectorInterval.append(interval)\n",
    "                crowdFlag = 1\n",
    "                interval = 0\n",
    "            elif currentCrowdSize > minCrowdSize:\n",
    "                crowdFlag = 1\n",
    "                interval = 0\n",
    "            else: # if current veh# < 3, interval still increase                \n",
    "                interval = interval + 1\n",
    "    #intervalList.append(detectorInterval)\n",
    "    DelayList.append(intersectionDelayList)"
   ]
  },
  {
   "cell_type": "code",
   "execution_count": 71,
   "metadata": {},
   "outputs": [
    {
     "data": {
      "image/png": "[encoded data removed]",
      "text/plain": [
       "<matplotlib.figure.Figure at 0x1a36a5982e8>"
      ]
     },
     "metadata": {
      "needs_background": "light"
     },
     "output_type": "display_data"
    },
    {
     "data": {
      "image/png": "[encoded data removed]",
      "text/plain": [
       "<matplotlib.figure.Figure at 0x1a36a5cc400>"
      ]
     },
     "metadata": {
      "needs_background": "light"
     },
     "output_type": "display_data"
    }
   ],
   "source": [
    "for num in detectorNums:\n",
    "    if num-7:\n",
    "        edge = \"E65\"\n",
    "    else:\n",
    "        edge = \"E56\"\n",
    "    plt.figure()\n",
    "    minDelay = min(DelayList[num-7][:])\n",
    "    maxDelay = max(DelayList[num-7][:])\n",
    "    plt.hist(DelayList[num-7][:],bins=range(minDelay-minDelay%10,maxDelay-maxDelay%10+15,1))\n",
    "    plt.title(\"Distribution of Crowd Dealy at \" + edge)\n",
    "    plt.xlabel('Range of Time (s)')\n",
    "    plt.ylabel('Frequency')"
   ]
  },
  {
   "cell_type": "code",
   "execution_count": 66,
   "metadata": {},
   "outputs": [
    {
     "data": {
      "text/plain": [
       "[[75.599999999999994,\n",
       "  109.33333333333333,\n",
       "  66.25,\n",
       "  106.85714285714286,\n",
       "  66.272727272727266,\n",
       "  101.16666666666667,\n",
       "  66.25,\n",
       "  109.2,\n",
       "  68.384615384615387,\n",
       "  113.0,\n",
       "  66.307692307692307,\n",
       "  110.33333333333333,\n",
       "  66.166666666666671,\n",
       "  113.59999999999999,\n",
       "  73.461538461538467,\n",
       "  108.5,\n",
       "  66.299999999999997,\n",
       "  110.85714285714286,\n",
       "  66.083333333333329,\n",
       "  107.57142857142857,\n",
       "  66.545454545454547,\n",
       "  101.83333333333333,\n",
       "  66.166666666666671,\n",
       "  98.799999999999997,\n",
       "  68.692307692307693,\n",
       "  108.42857142857143,\n",
       "  66.090909090909093,\n",
       "  114.2,\n",
       "  69.538461538461533,\n",
       "  110.85714285714286,\n",
       "  66.166666666666671,\n",
       "  103.2,\n",
       "  66.07692307692308,\n",
       "  109.5,\n",
       "  66.545454545454547,\n",
       "  112.59999999999999,\n",
       "  66.230769230769226,\n",
       "  101.0,\n",
       "  66.272727272727266,\n",
       "  109.0,\n",
       "  66.083333333333329,\n",
       "  109.85714285714286,\n",
       "  67.166666666666671,\n",
       "  110.0,\n",
       "  66.083333333333329,\n",
       "  110.16666666666667,\n",
       "  66.181818181818187,\n",
       "  112.0,\n",
       "  66.285714285714292,\n",
       "  70.799999999999997,\n",
       "  109.0,\n",
       "  68.0,\n",
       "  107.75,\n",
       "  66.272727272727266,\n",
       "  113.0,\n",
       "  66.15384615384616,\n",
       "  107.14285714285714,\n",
       "  66.599999999999994,\n",
       "  101.25,\n",
       "  66.200000000000003,\n",
       "  102.16666666666667,\n",
       "  66.833333333333329,\n",
       "  109.83333333333333,\n",
       "  66.25,\n",
       "  109.5,\n",
       "  66.36363636363636,\n",
       "  109.71428571428571,\n",
       "  66.181818181818187,\n",
       "  100.28571428571429,\n",
       "  66.272727272727266,\n",
       "  107.85714285714286,\n",
       "  66.799999999999997,\n",
       "  109.25,\n",
       "  66.272727272727266,\n",
       "  106.85714285714286,\n",
       "  68.090909090909093,\n",
       "  107.71428571428571,\n",
       "  66.181818181818187,\n",
       "  106.83333333333333,\n",
       "  72.538461538461533,\n",
       "  105.83333333333333,\n",
       "  66.272727272727266,\n",
       "  110.16666666666667,\n",
       "  66.25,\n",
       "  110.66666666666667,\n",
       "  66.166666666666671,\n",
       "  104.0,\n",
       "  66.230769230769226,\n",
       "  113.66666666666667,\n",
       "  66.166666666666671,\n",
       "  110.0,\n",
       "  66.416666666666671,\n",
       "  107.14285714285714,\n",
       "  66.5,\n",
       "  108.0,\n",
       "  66.272727272727266,\n",
       "  97.833333333333329,\n",
       "  66.272727272727266,\n",
       "  110.0,\n",
       "  66.0,\n",
       "  102.75,\n",
       "  66.181818181818187,\n",
       "  102.33333333333333,\n",
       "  67.75,\n",
       "  109.66666666666667,\n",
       "  66.909090909090907],\n",
       " [70.799999999999997,\n",
       "  107.5,\n",
       "  65.142857142857139,\n",
       "  103.59999999999999,\n",
       "  65.230769230769226,\n",
       "  103.0,\n",
       "  65.461538461538467,\n",
       "  104.66666666666667,\n",
       "  65.333333333333329,\n",
       "  107.5,\n",
       "  65.357142857142861,\n",
       "  107.0,\n",
       "  65.307692307692307,\n",
       "  106.5,\n",
       "  65.285714285714292,\n",
       "  74.611111111111114,\n",
       "  103.2,\n",
       "  65.384615384615387,\n",
       "  74.388888888888886,\n",
       "  108.0,\n",
       "  65.714285714285708,\n",
       "  106.25,\n",
       "  65.857142857142861,\n",
       "  104.59999999999999,\n",
       "  65.307692307692307,\n",
       "  106.5,\n",
       "  65.357142857142861,\n",
       "  107.25,\n",
       "  65.214285714285708,\n",
       "  104.0,\n",
       "  65.25,\n",
       "  106.40000000000001,\n",
       "  65.07692307692308,\n",
       "  104.2,\n",
       "  65.461538461538467,\n",
       "  107.2,\n",
       "  65.416666666666671,\n",
       "  98.799999999999997,\n",
       "  65.666666666666671,\n",
       "  74.5,\n",
       "  98.714285714285708,\n",
       "  65.416666666666671,\n",
       "  103.59999999999999,\n",
       "  70.0,\n",
       "  105.59999999999999,\n",
       "  65.307692307692307,\n",
       "  107.25,\n",
       "  65.357142857142861,\n",
       "  103.40000000000001,\n",
       "  65.307692307692307,\n",
       "  107.5,\n",
       "  67.571428571428569,\n",
       "  104.0,\n",
       "  66.416666666666671,\n",
       "  102.40000000000001,\n",
       "  69.214285714285708,\n",
       "  107.75,\n",
       "  68.428571428571431,\n",
       "  103.8,\n",
       "  65.230769230769226,\n",
       "  102.8,\n",
       "  65.230769230769226,\n",
       "  104.59999999999999,\n",
       "  65.307692307692307,\n",
       "  103.40000000000001,\n",
       "  66.0,\n",
       "  103.2,\n",
       "  65.230769230769226,\n",
       "  76.05263157894737,\n",
       "  103.8,\n",
       "  65.5,\n",
       "  100.0,\n",
       "  65.285714285714292,\n",
       "  103.40000000000001,\n",
       "  65.307692307692307,\n",
       "  103.2,\n",
       "  65.384615384615387,\n",
       "  106.5,\n",
       "  65.357142857142861,\n",
       "  105.0,\n",
       "  65.461538461538467,\n",
       "  104.2,\n",
       "  65.230769230769226,\n",
       "  103.40000000000001,\n",
       "  66.07692307692308,\n",
       "  107.0,\n",
       "  65.571428571428569,\n",
       "  103.8,\n",
       "  65.583333333333329,\n",
       "  98.333333333333329,\n",
       "  66.25,\n",
       "  107.59999999999999,\n",
       "  65.461538461538467,\n",
       "  107.0,\n",
       "  65.714285714285708,\n",
       "  107.5,\n",
       "  65.307692307692307,\n",
       "  104.16666666666667,\n",
       "  65.769230769230774,\n",
       "  107.0,\n",
       "  65.357142857142861,\n",
       "  104.0,\n",
       "  65.400000000000006]]"
      ]
     },
     "execution_count": 66,
     "metadata": {},
     "output_type": "execute_result"
    }
   ],
   "source": [
    "DelayList"
   ]
  },
  {
   "cell_type": "code",
   "execution_count": 55,
   "metadata": {},
   "outputs": [
    {
     "data": {
      "text/plain": [
       "65"
      ]
     },
     "execution_count": 55,
     "metadata": {},
     "output_type": "execute_result"
    }
   ],
   "source": [
    "int(df_ID_DownEdge_delay['delay'][df_ID_DownEdge_delay['carID'] == 'down_19'])"
   ]
  },
  {
   "cell_type": "code",
   "execution_count": 39,
   "metadata": {},
   "outputs": [
    {
     "data": {
      "text/plain": [
       "True"
      ]
     },
     "execution_count": 39,
     "metadata": {},
     "output_type": "execute_result"
    }
   ],
   "source": [
    "name = detectorDownNameList[2]\n",
    "df2[name][df2[name] == '(up_151),'].empty"
   ]
  },
  {
   "cell_type": "code",
   "execution_count": 30,
   "metadata": {},
   "outputs": [
    {
     "data": {
      "text/plain": [
       "'down_909'"
      ]
     },
     "execution_count": 30,
     "metadata": {},
     "output_type": "execute_result"
    }
   ],
   "source": [
    "df2['e1Detector_E45_0_12'][2525][2:-3]"
   ]
  }
 ],
 "metadata": {
  "kernelspec": {
   "display_name": "Python 3",
   "language": "python",
   "name": "python3"
  },
  "language_info": {
   "codemirror_mode": {
    "name": "ipython",
    "version": 3
   },
   "file_extension": ".py",
   "mimetype": "text/x-python",
   "name": "python",
   "nbconvert_exporter": "python",
   "pygments_lexer": "ipython3",
   "version": "3.7.1"
  }
 },
 "nbformat": 4,
 "nbformat_minor": 2
}
