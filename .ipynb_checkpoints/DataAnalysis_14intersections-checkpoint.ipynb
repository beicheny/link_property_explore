{
 "cells": [
  {
   "cell_type": "code",
   "execution_count": 1,
   "metadata": {},
   "outputs": [],
   "source": [
    "from __future__ import division\n",
    "import pandas as pd\n",
    "import numpy as np\n",
    "import matplotlib.pyplot as plt"
   ]
  },
  {
   "cell_type": "code",
   "execution_count": 2,
   "metadata": {},
   "outputs": [],
   "source": [
    "# load data file\n",
    "df = pd.read_csv('IntervalIDBase14Intersections.txt', delimiter=';')"
   ]
  },
  {
   "cell_type": "code",
   "execution_count": 3,
   "metadata": {},
   "outputs": [],
   "source": [
    "# data cleaning\n",
    "num_df = df.iloc[:,0:65].copy().replace('()',0).replace(to_replace=r'^(.*)$', value=1, regex=True)\n",
    "\n",
    "df_all_edge_detection = pd.DataFrame(np.zeros((df.index[0], 32)))\n",
    "for i in range(32):\n",
    "    df_all_edge_detection.iloc[:,i] = num_df.iloc[:,2*i+1] + num_df.iloc[:,2*i+2]\n",
    "\n",
    "df_traffic_light = pd.DataFrame(np.zeros((df.index[0], 8)))\n",
    "for i in range(65,73):\n",
    "    temp = df.iloc[:,i]/2    \n",
    "    df_traffic_light.iloc[:,i-65] = temp.astype(int)\n",
    "    \n",
    "df_intersection_vehnum = pd.DataFrame(np.zeros((df.index[0], 16)))\n",
    "for i in range(73,89):   \n",
    "    df_intersection_vehnum.iloc[:,i-73] = df.iloc[:,i]\n",
    "    \n",
    "df_outIntersection_vehnum = pd.DataFrame(np.zeros((df.index[0], 16)))\n",
    "for i in range(89,105):   \n",
    "    df_outIntersection_vehnum.iloc[:,i-89] = df.iloc[:,i]\n",
    "    \n",
    "df_intersection_crowd_size = pd.DataFrame(np.zeros((df.index[0], 8)))\n",
    "for i in range(8):\n",
    "    df_intersection_crowd_size.iloc[:,i] = df.iloc[:,i+105]"
   ]
  },
  {
   "cell_type": "code",
   "execution_count": 10,
   "metadata": {},
   "outputs": [],
   "source": [
    "# caculate the interval between vehicle crowd, all intersections  --V2.0\n",
    "\n",
    "nums = range(0,32)\n",
    "intervalList = []\n",
    "minCrowdSize = 3\n",
    "maxTimeIntervalInCrowd = 3\n",
    "crowdSizeList = []\n",
    "\n",
    "for num in nums:\n",
    "    interval = 0\n",
    "    firstVehicleInterval = 0\n",
    "    detectorInterval = []\n",
    "    currentTimeIntervalInCrowd = 0\n",
    "    currentCrowdSize = 0\n",
    "    crowdFlag = 0\n",
    "    firstVehicleFlag = 0\n",
    "    currentCrowdSizeList = []\n",
    "    for key, value in df_all_edge_detection.iloc[:,num].iteritems(): \n",
    "        interval = interval + 1\n",
    "        if value == 0:\n",
    "            # not a crowd, just one or two vehicle\n",
    "            if firstVehicleFlag == 1 and interval - firstVehicleInterval >= maxTimeIntervalInCrowd:\n",
    "                currentCrowdSize = 0\n",
    "                firstVehicleFlag = 0\n",
    "                firstVehicleInterval = 0                        \n",
    "            \n",
    "            if interval == maxTimeIntervalInCrowd and crowdFlag == 1:\n",
    "                currentCrowdSizeList.append(currentCrowdSize)\n",
    "                crowdFlag = 0\n",
    "                currentCrowdSize = 0\n",
    "\n",
    "        else:\n",
    "            currentCrowdSize = currentCrowdSize + 1        \n",
    "            if currentCrowdSize >= minCrowdSize:            \n",
    "                if crowdFlag == 0:\n",
    "                    detectorInterval.append(firstVehicleInterval)\n",
    "                    firstVehicleInterval = 0\n",
    "                    firstVehicleFlag = 0\n",
    "                crowdFlag = 1\n",
    "                interval = 0\n",
    "            elif currentCrowdSize == 1:\n",
    "                if crowdFlag == 0:\n",
    "                    firstVehicleInterval = interval\n",
    "                    firstVehicleFlag = 1\n",
    "            else:\n",
    "                # if current 1< veh# < 3, interval still increase\n",
    "                continue\n",
    "    \n",
    "    if crowdFlag == 1:\n",
    "        currentCrowdSizeList.append(currentCrowdSize)\n",
    "    \n",
    "    intervalList.append(detectorInterval)\n",
    "    crowdSizeList.append(currentCrowdSizeList)"
   ]
  },
  {
   "cell_type": "code",
   "execution_count": 16,
   "metadata": {},
   "outputs": [],
   "source": [
    "for i in range(32):\n",
    "    if not len(intervalList[i]) == len(crowdSizeList[i]):\n",
    "        print(i)"
   ]
  },
  {
   "cell_type": "code",
   "execution_count": 18,
   "metadata": {},
   "outputs": [],
   "source": [
    "# the following is to caculate the link delay\n",
    "# up and down link\n",
    "detectorDownNameList = [\"e1Detector_E12_0_0\",\"e1Detector_E12_1_1\",\"e1Detector_E23_0_4\",\"e1Detector_E23_1_5\",\n",
    "                        \"e1Detector_E34_0_8\",\"e1Detector_E34_1_9\",\"e1Detector_E45_0_12\",\"e1Detector_E45_1_13\",\n",
    "                        \"e1Detector_E56_0_16\",\"e1Detector_E56_1_17\",\"e1Detector_E67_0_20\",\"e1Detector_E67_1_21\",\n",
    "                        \"e1Detector_E78_0_24\",\"e1Detector_E78_1_25\",\"e1Detector_E89_0_28\",\"e1Detector_E89_1_29\"]\n",
    "detectorUpNameList = [\"e1Detector_E09_1_30\",\"e1Detector_E09_0_31\",\"e1Detector_E98_1_26\",\"e1Detector_E98_0_27\",\n",
    "                      \"e1Detector_E87_1_22\",\"e1Detector_E87_0_23\",\"e1Detector_E76_1_18\",\"e1Detector_E76_0_19\",\n",
    "                      \"e1Detector_E65_1_14\",\"e1Detector_E65_0_15\",\"e1Detector_E54_1_10\",\"e1Detector_E54_0_11\",\n",
    "                      \"e1Detector_E43_1_6\",\"e1Detector_E43_0_7\",\"e1Detector_E32_1_2\",\"e1Detector_E32_0_3\"]\n",
    "detectorOutDownNameList = [\"out_e1Detector_E23_0_4\",\"out_e1Detector_E23_1_5\",\"out_e1Detector_E34_0_8\",\"out_e1Detector_E34_1_9\",\n",
    "                           \"out_e1Detector_E45_0_12\",\"out_e1Detector_E45_1_13\",\"out_e1Detector_E56_0_16\",\"out_e1Detector_E56_1_17\",\n",
    "                           \"out_e1Detector_E67_0_20\",\"out_e1Detector_E67_1_21\",\"out_e1Detector_E78_0_24\",\"out_e1Detector_E78_1_25\",\n",
    "                           \"out_e1Detector_E89_0_28\",\"out_e1Detector_E89_1_29\",\"out_e1Detector_E90_1_30\",\"out_e1Detector_E90_0_31\"]\n",
    "detectorOutUpNameList = [\"out_e1Detector_E98_1_26\",\"out_e1Detector_E98_0_27\",\"out_e1Detector_E87_1_22\",\"out_e1Detector_E87_0_23\",\n",
    "                         \"out_e1Detector_E76_1_18\",\"out_e1Detector_E76_0_19\",\"out_e1Detector_E65_1_14\",\"out_e1Detector_E65_0_15\",\n",
    "                         \"out_e1Detector_E54_1_10\",\"out_e1Detector_E54_0_11\",\"out_e1Detector_E43_1_6\",\"out_e1Detector_E43_0_7\",\n",
    "                         \"out_e1Detector_E32_1_2\",\"out_e1Detector_E32_0_3\",\"out_e1Detector_E21_0_0\",\"out_e1Detector_E21_1_1\"]\n",
    "\n",
    "carIDFile = open('carIDFile14Intersections.txt', \"r\")\n",
    "for line in carIDFile:\n",
    "    carIDList = line.split(\",\")\n",
    "carIDFile.close() \n",
    "\n",
    "carDownIDList = []\n",
    "carUpIDList = []\n",
    "for carID in carIDList:\n",
    "    if carID[0] == \"u\":\n",
    "        carUpIDList.append(carID)\n",
    "    else:\n",
    "        carDownIDList.append(carID)"
   ]
  },
  {
   "cell_type": "code",
   "execution_count": 20,
   "metadata": {},
   "outputs": [
    {
     "name": "stderr",
     "output_type": "stream",
     "text": [
      "C:\\Users\\byang12\\AppData\\Local\\Continuum\\anaconda3\\lib\\site-packages\\ipykernel_launcher.py:5: UserWarning: This pattern has match groups. To actually get the groups, use str.extract.\n",
      "  \"\"\"\n"
     ]
    }
   ],
   "source": [
    "df_ID_DownEdge_Time = pd.DataFrame(columns =  [\"carID\", \"DownEdge\", \"Timestamp\"])\n",
    "i = 0\n",
    "for carID in carDownIDList:\n",
    "    for edge in detectorDownNameList:\n",
    "        record = df.loc[df[edge].str.contains(\"('\"+carID+\"',)\")]\n",
    "        if not record.empty:\n",
    "            df_ID_DownEdge_Time.loc[i] = [carID,edge[11:14],record.index[0]]\n",
    "            i = i + 1"
   ]
  },
  {
   "cell_type": "code",
   "execution_count": 21,
   "metadata": {},
   "outputs": [
    {
     "name": "stderr",
     "output_type": "stream",
     "text": [
      "C:\\Users\\byang12\\AppData\\Local\\Continuum\\anaconda3\\lib\\site-packages\\ipykernel_launcher.py:5: UserWarning: This pattern has match groups. To actually get the groups, use str.extract.\n",
      "  \"\"\"\n"
     ]
    }
   ],
   "source": [
    "df_ID_UpEdge_Time = pd.DataFrame(columns =  [\"carID\", \"UpEdge\", \"Timestamp\"])\n",
    "i = 0\n",
    "for carID in carUpIDList:\n",
    "    for edge in detectorUpNameList:\n",
    "        record = df.loc[df[edge].str.contains(\"('\"+carID+\"',)\")]\n",
    "        if not record.empty:\n",
    "            df_ID_UpEdge_Time.loc[i] = [carID,edge[11:14],record.index[0]]\n",
    "            i = i + 1"
   ]
  },
  {
   "cell_type": "code",
   "execution_count": 22,
   "metadata": {},
   "outputs": [
    {
     "name": "stderr",
     "output_type": "stream",
     "text": [
      "C:\\Users\\byang12\\AppData\\Local\\Continuum\\anaconda3\\lib\\site-packages\\ipykernel_launcher.py:5: UserWarning: This pattern has match groups. To actually get the groups, use str.extract.\n",
      "  \"\"\"\n"
     ]
    }
   ],
   "source": [
    "df_ID_DownOutEdge_Time = pd.DataFrame(columns =  [\"carID\", \"DownEdge\", \"Timestamp\"])\n",
    "i = 0\n",
    "for carID in carDownIDList:\n",
    "    for edge in detectorOutDownNameList:\n",
    "        record = df.loc[df[edge].str.contains(\"('\"+carID+\"',)\")]\n",
    "        if not record.empty:\n",
    "            df_ID_DownOutEdge_Time.loc[i] = [carID,edge[15:18],record.index[0]]\n",
    "            i = i + 1"
   ]
  },
  {
   "cell_type": "code",
   "execution_count": 23,
   "metadata": {},
   "outputs": [
    {
     "name": "stderr",
     "output_type": "stream",
     "text": [
      "C:\\Users\\byang12\\AppData\\Local\\Continuum\\anaconda3\\lib\\site-packages\\ipykernel_launcher.py:5: UserWarning: This pattern has match groups. To actually get the groups, use str.extract.\n",
      "  \"\"\"\n"
     ]
    }
   ],
   "source": [
    "df_ID_UpOutEdge_Time = pd.DataFrame(columns =  [\"carID\", \"UpEdge\", \"Timestamp\"])\n",
    "i = 0\n",
    "for carID in carUpIDList:\n",
    "    for edge in detectorOutUpNameList:\n",
    "        record = df.loc[df[edge].str.contains(\"('\"+carID+\"',)\")]\n",
    "        if not record.empty:\n",
    "            df_ID_UpOutEdge_Time.loc[i] = [carID,edge[15:18],record.index[0]]\n",
    "            i = i + 1"
   ]
  },
  {
   "cell_type": "code",
   "execution_count": 25,
   "metadata": {},
   "outputs": [],
   "source": [
    "df_ID_DownEdge_delay = pd.DataFrame(columns =  [\"carID\", \"DownEdge\", \"delay\"])\n",
    "i = 0\n",
    "for index, row in df_ID_DownEdge_Time.iterrows():\n",
    "    if index%8 == 0:\n",
    "        upStreamEdgeTimestamp = row['Timestamp']\n",
    "    else:        \n",
    "        downStreamEdgeTimestamp = row['Timestamp']\n",
    "        df_ID_DownEdge_delay.loc[i] = [row['carID'],row['DownEdge'],downStreamEdgeTimestamp-upStreamEdgeTimestamp]\n",
    "        i = i + 1\n",
    "        upStreamEdgeTimestamp = row['Timestamp']"
   ]
  },
  {
   "cell_type": "code",
   "execution_count": 26,
   "metadata": {},
   "outputs": [],
   "source": [
    "df_ID_UpEdge_delay = pd.DataFrame(columns =  [\"carID\", \"UpEdge\", \"delay\"])\n",
    "i = 0\n",
    "for index, row in df_ID_UpEdge_Time.iterrows():\n",
    "    if index%8 == 0:\n",
    "        upStreamEdgeTimestamp = row['Timestamp']\n",
    "    else:        \n",
    "        downStreamEdgeTimestamp = row['Timestamp']\n",
    "        df_ID_UpEdge_delay.loc[i] = [row['carID'],row['UpEdge'],downStreamEdgeTimestamp-upStreamEdgeTimestamp]\n",
    "        i = i + 1\n",
    "        upStreamEdgeTimestamp = row['Timestamp']"
   ]
  },
  {
   "cell_type": "code",
   "execution_count": 27,
   "metadata": {},
   "outputs": [],
   "source": [
    "df_ID_DownOutEdge_delay = pd.DataFrame(columns =  [\"carID\", \"DownEdge\", \"delay\"])\n",
    "i = 0\n",
    "for index, row in df_ID_DownOutEdge_Time.iterrows():\n",
    "    if index%8 == 0:\n",
    "        upStreamEdgeTimestamp = row['Timestamp']\n",
    "    else:\n",
    "        downStreamEdgeTimestamp = row['Timestamp']\n",
    "        df_ID_DownOutEdge_delay.loc[i] = [row['carID'],row['DownEdge'],downStreamEdgeTimestamp-upStreamEdgeTimestamp]\n",
    "        i = i + 1\n",
    "        upStreamEdgeTimestamp = row['Timestamp']"
   ]
  },
  {
   "cell_type": "code",
   "execution_count": 28,
   "metadata": {},
   "outputs": [],
   "source": [
    "df_ID_UpOutEdge_delay = pd.DataFrame(columns =  [\"carID\", \"UpEdge\", \"delay\"])\n",
    "i = 0\n",
    "for index, row in df_ID_UpOutEdge_Time.iterrows():\n",
    "    if index%8 == 0:\n",
    "        upStreamEdgeTimestamp = row['Timestamp']\n",
    "    else:        \n",
    "        downStreamEdgeTimestamp = row['Timestamp']\n",
    "        df_ID_UpOutEdge_delay.loc[i] = [row['carID'],row['UpEdge'],downStreamEdgeTimestamp-upStreamEdgeTimestamp]\n",
    "        i = i + 1\n",
    "        upStreamEdgeTimestamp = row['Timestamp']"
   ]
  },
  {
   "cell_type": "code",
   "execution_count": null,
   "metadata": {},
   "outputs": [],
   "source": [
    "# caculate the interval between vehicle crowd, I5(detc 6 7) I6(detc 8 9)\n",
    "detectorNums = [7,8]  # 7:upLink, 8:downLink\n",
    "#intervalList = []\n",
    "DelayList = []\n",
    "minCrowdSize = 3\n",
    "maxTimeIntervalInCrowd = 3\n",
    "for detectorNum in detectorNums:\n",
    "    interval = 0\n",
    "    #detectorInterval = []\n",
    "    intersectionDelayList = []\n",
    "    crowdDelayList = []\n",
    "    currentTimeIntervalInCrowd = 0\n",
    "    currentCrowdSize = 0\n",
    "    crowdFlag = 0\n",
    "    for key, value in df_all_edge_detection.iloc[:,detectorNum].iteritems(): \n",
    "        if value == 0:\n",
    "            interval = interval + 1\n",
    "            if interval > maxTimeIntervalInCrowd:\n",
    "                # caculate current crowd Delay, average of all vehicle\n",
    "                if crowdFlag == 1:\n",
    "                    intersectionDelayList.append(int(np.mean(crowdDelayList)))\n",
    "                    crowdFlag = 0\n",
    "                    currentCrowdSize = 0\n",
    "                    crowdDelayList = []\n",
    "                else:\n",
    "                    continue                    \n",
    "        else:\n",
    "            currentCrowdSize = currentCrowdSize + 1\n",
    "            \n",
    "            if detectorNum == 8:\n",
    "                for i in range(2):\n",
    "                    name = detectorDownNameList[2+i]\n",
    "                    if not df2[name][key] == '()':\n",
    "                        vehicleID = df2[name][key][2:-3]\n",
    "                        currentDelay = int(df_ID_DownEdge_delay['delay'][df_ID_DownEdge_delay['carID'] == vehicleID])\n",
    "                        crowdDelayList.append(currentDelay)\n",
    "            if detectorNum == 7:\n",
    "                for i in range(2):\n",
    "                    name = detectorUpNameList[2+i]\n",
    "                    if not df2[name][key] == '()':\n",
    "                        vehicleID = df2[name][key][2:-3]\n",
    "                        currentDelay = int(df_ID_UpEdge_delay['delay'][df_ID_UpEdge_delay['carID'] == vehicleID])\n",
    "                        crowdDelayList.append(currentDelay)             \n",
    "            \n",
    "            if currentCrowdSize == minCrowdSize:\n",
    "                if crowdFlag == 0:\n",
    "                    detectorInterval.append(interval)\n",
    "                crowdFlag = 1\n",
    "                interval = 0\n",
    "            elif currentCrowdSize > minCrowdSize:\n",
    "                crowdFlag = 1\n",
    "                interval = 0\n",
    "            else: # if current veh# < 3, interval still increase                \n",
    "                interval = interval + 1\n",
    "    #intervalList.append(detectorInterval)\n",
    "    DelayList.append(intersectionDelayList)"
   ]
  }
 ],
 "metadata": {
  "kernelspec": {
   "display_name": "Python 3",
   "language": "python",
   "name": "python3"
  },
  "language_info": {
   "codemirror_mode": {
    "name": "ipython",
    "version": 3
   },
   "file_extension": ".py",
   "mimetype": "text/x-python",
   "name": "python",
   "nbconvert_exporter": "python",
   "pygments_lexer": "ipython3",
   "version": "3.7.1"
  }
 },
 "nbformat": 4,
 "nbformat_minor": 2
}
